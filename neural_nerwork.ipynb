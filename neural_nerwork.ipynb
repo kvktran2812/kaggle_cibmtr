{
 "cells": [
  {
   "cell_type": "code",
   "execution_count": 1,
   "id": "b677db92-6c28-4a7e-8e35-69c75db12d67",
   "metadata": {},
   "outputs": [],
   "source": [
    "import pandas as pd\n",
    "import numpy as np\n",
    "import matplotlib.pyplot as plt\n",
    "import seaborn as sns\n",
    "from scipy.stats import rankdata\n",
    "\n",
    "from lifelines import CoxPHFitter, KaplanMeierFitter\n",
    "from sklearn.preprocessing import LabelEncoder\n",
    "from sklearn.model_selection import train_test_split, KFold\n",
    "from sklearn.metrics import mean_squared_error, mean_absolute_error, r2_score\n",
    "from lifelines.utils import concordance_index\n",
    "from metric import score\n",
    "import torch\n",
    "from torch import nn\n",
    "from torch.utils.data import TensorDataset, DataLoader"
   ]
  },
  {
   "cell_type": "code",
   "execution_count": 2,
   "id": "93ae3b70-37f0-4686-a8d0-1522cbfdcb7a",
   "metadata": {},
   "outputs": [],
   "source": [
    "train_path = \"data/train.csv\"\n",
    "test_path = \"data/test.csv\"\n",
    "sample_path = \"data/sample_submission.csv\"\n",
    "data_dict_path = \"data/data_dictionary.csv\"\n",
    "\n",
    "train_df = pd.read_csv(train_path)\n",
    "test_df = pd.read_csv(test_path)\n",
    "data_dict_df = pd.read_csv(data_dict_path)"
   ]
  },
  {
   "cell_type": "code",
   "execution_count": 3,
   "id": "db972f64-2d1a-4658-bcb8-b4f295321eaa",
   "metadata": {},
   "outputs": [
    {
     "name": "stdout",
     "output_type": "stream",
     "text": [
      "Total features: 57 - ['dri_score', 'psych_disturb', 'cyto_score', 'diabetes', 'hla_match_c_high', 'hla_high_res_8', 'tbi_status', 'arrhythmia', 'hla_low_res_6', 'graft_type', 'vent_hist', 'renal_issue', 'pulm_severe', 'prim_disease_hct', 'hla_high_res_6', 'cmv_status', 'hla_high_res_10', 'hla_match_dqb1_high', 'tce_imm_match', 'hla_nmdp_6', 'hla_match_c_low', 'rituximab', 'hla_match_drb1_low', 'hla_match_dqb1_low', 'prod_type', 'cyto_score_detail', 'conditioning_intensity', 'ethnicity', 'year_hct', 'obesity', 'mrd_hct', 'in_vivo_tcd', 'tce_match', 'hla_match_a_high', 'hepatic_severe', 'donor_age', 'prior_tumor', 'hla_match_b_low', 'peptic_ulcer', 'age_at_hct', 'hla_match_a_low', 'gvhd_proph', 'rheum_issue', 'sex_match', 'hla_match_b_high', 'race_group', 'comorbidity_score', 'karnofsky_score', 'hepatic_mild', 'tce_div_match', 'donor_related', 'melphalan_dose', 'hla_low_res_8', 'cardiac', 'hla_match_drb1_high', 'pulm_moderate', 'hla_low_res_10']\n"
     ]
    }
   ],
   "source": [
    "RMV = [\"ID\", \"efs\", \"efs_time\", \"y\"]\n",
    "FEATURES = [c for c in train_df.columns if not c in RMV]\n",
    "print(f\"Total features: {len(FEATURES)} - {FEATURES}\")"
   ]
  },
  {
   "cell_type": "code",
   "execution_count": 4,
   "id": "eeb94345-c018-4b49-9e5e-991ac47bf433",
   "metadata": {},
   "outputs": [
    {
     "name": "stdout",
     "output_type": "stream",
     "text": [
      "Categorical features: 35 - ['dri_score', 'psych_disturb', 'cyto_score', 'diabetes', 'tbi_status', 'arrhythmia', 'graft_type', 'vent_hist', 'renal_issue', 'pulm_severe', 'prim_disease_hct', 'cmv_status', 'tce_imm_match', 'rituximab', 'prod_type', 'cyto_score_detail', 'conditioning_intensity', 'ethnicity', 'obesity', 'mrd_hct', 'in_vivo_tcd', 'tce_match', 'hepatic_severe', 'prior_tumor', 'peptic_ulcer', 'gvhd_proph', 'rheum_issue', 'sex_match', 'race_group', 'hepatic_mild', 'tce_div_match', 'donor_related', 'melphalan_dose', 'cardiac', 'pulm_moderate']\n"
     ]
    }
   ],
   "source": [
    "CAT_FEATURES = []\n",
    "for f in FEATURES:\n",
    "    if train_df[f].dtype == \"object\":\n",
    "        CAT_FEATURES.append(f)\n",
    "        train_df[f] = train_df[f].fillna(\"NAN\")\n",
    "        test_df[f] = test_df[f].fillna(\"NAN\")\n",
    "\n",
    "print(f\"Categorical features: {len(CAT_FEATURES)} - {CAT_FEATURES}\")"
   ]
  },
  {
   "cell_type": "code",
   "execution_count": 5,
   "id": "ed088136-b488-4532-9319-af403a34e1ca",
   "metadata": {},
   "outputs": [
    {
     "name": "stdout",
     "output_type": "stream",
     "text": [
      "We LABEL ENCODE the CATEGORICAL FEATURES: \n",
      "dri_score has (12) unique values\n",
      "psych_disturb has (4) unique values\n",
      "cyto_score has (8) unique values\n",
      "diabetes has (4) unique values\n",
      "tbi_status has (8) unique values\n",
      "arrhythmia has (4) unique values\n",
      "graft_type has (2) unique values\n",
      "vent_hist has (3) unique values\n",
      "renal_issue has (4) unique values\n",
      "pulm_severe has (4) unique values\n",
      "prim_disease_hct has (18) unique values\n",
      "cmv_status has (5) unique values\n",
      "tce_imm_match has (9) unique values\n",
      "rituximab has (3) unique values\n",
      "prod_type has (2) unique values\n",
      "cyto_score_detail has (6) unique values\n",
      "conditioning_intensity has (7) unique values\n",
      "ethnicity has (4) unique values\n",
      "obesity has (4) unique values\n",
      "mrd_hct has (3) unique values\n",
      "in_vivo_tcd has (3) unique values\n",
      "tce_match has (5) unique values\n",
      "hepatic_severe has (4) unique values\n",
      "prior_tumor has (4) unique values\n",
      "peptic_ulcer has (4) unique values\n",
      "gvhd_proph has (18) unique values\n",
      "rheum_issue has (4) unique values\n",
      "sex_match has (5) unique values\n",
      "race_group has (6) unique values\n",
      "hepatic_mild has (4) unique values\n",
      "tce_div_match has (5) unique values\n",
      "donor_related has (4) unique values\n",
      "melphalan_dose has (3) unique values\n",
      "cardiac has (4) unique values\n",
      "pulm_moderate has (4) unique values\n"
     ]
    }
   ],
   "source": [
    "CAT_SIZE = []\n",
    "CAT_EMB = []\n",
    "NUMS = []\n",
    "\n",
    "combined = pd.concat([train_df,test_df],axis=0,ignore_index=True)\n",
    "#print(\"Combined data shape:\", combined.shape )\n",
    "\n",
    "print(\"We LABEL ENCODE the CATEGORICAL FEATURES: \")\n",
    "\n",
    "for c in FEATURES:\n",
    "    if c in CAT_FEATURES:\n",
    "        # LABEL ENCODE\n",
    "        combined[c],_ = combined[c].factorize()\n",
    "        combined[c] -= combined[c].min()\n",
    "        combined[c] = combined[c].astype(\"int32\")\n",
    "        #combined[c] = combined[c].astype(\"category\")\n",
    "\n",
    "        n = combined[c].nunique()\n",
    "        mn = combined[c].min()\n",
    "        mx = combined[c].max()\n",
    "        print(f'{c} has ({n}) unique values')\n",
    "\n",
    "        CAT_SIZE.append(mx+1) \n",
    "        CAT_EMB.append( int(np.ceil( np.sqrt(mx+1))) ) \n",
    "    else:\n",
    "        if combined[c].dtype==\"float64\":\n",
    "            combined[c] = combined[c].astype(\"float32\")\n",
    "        if combined[c].dtype==\"int64\":\n",
    "            combined[c] = combined[c].astype(\"int32\")\n",
    "            \n",
    "        m = combined[c].mean()\n",
    "        s = combined[c].std()\n",
    "        combined[c] = (combined[c]-m)/s\n",
    "        combined[c] = combined[c].fillna(0)\n",
    "        \n",
    "        NUMS.append(c)\n",
    "        \n",
    "train = combined.iloc[:len(train_df)].copy()\n",
    "test = combined.iloc[len(train_df):].reset_index(drop=True).copy()"
   ]
  },
  {
   "cell_type": "code",
   "execution_count": 6,
   "id": "38c99269-3ffb-4057-9207-b7bef23a6028",
   "metadata": {},
   "outputs": [
    {
     "data": {
      "image/png": "[encoded data removed]",
      "text/plain": [
       "<Figure size 640x480 with 1 Axes>"
      ]
     },
     "metadata": {},
     "output_type": "display_data"
    }
   ],
   "source": [
    "train[\"y\"] = train.efs_time.values\n",
    "mx = train.loc[train.efs==1,\"efs_time\"].max()\n",
    "mn = train.loc[train.efs==0,\"efs_time\"].min()\n",
    "train.loc[train.efs==0,\"y\"] = train.loc[train.efs==0,\"y\"] + mx - mn\n",
    "train.y = train.y.rank()\n",
    "train.loc[train.efs==0,\"y\"] += 2*len(train)\n",
    "train.y = train.y / train.y.max()\n",
    "train.y = np.log( train.y )\n",
    "train.y -= train.y.mean()\n",
    "train.y *= -1.0\n",
    "\n",
    "plt.hist(train.loc[train.efs==1,\"y\"],bins=100,label=\"efs=1, Yes Event\")\n",
    "plt.hist(train.loc[train.efs==0,\"y\"],bins=100,label=\"efs=0, Maybe Event\")\n",
    "plt.xlim((-5,5))\n",
    "plt.xlabel(\"Transformed Target y\")\n",
    "plt.ylabel(\"Density\")\n",
    "plt.title(\"Transformed Target y using both efs and efs_time.\")\n",
    "plt.legend()\n",
    "plt.show()"
   ]
  },
  {
   "cell_type": "code",
   "execution_count": 10,
   "id": "0fd86e19-49b7-4494-8410-7c09d4ce78b9",
   "metadata": {},
   "outputs": [],
   "source": [
    "class NeuralNetwork(nn.Module):\n",
    "    def __init__(self, input_dim):\n",
    "        super(NeuralNetwork, self).__init__()\n",
    "        self.fc1 = nn.Linear(input_dim, 128)\n",
    "        self.fc2 = nn.Linear(128, 128)\n",
    "        self.out = nn.Linear(128, 1)\n",
    "        self.relu = nn.LeakyReLU()\n",
    "\n",
    "    def forward(self, x):\n",
    "        x = self.relu(self.fc1(x))\n",
    "        x = self.relu(self.fc2(x))\n",
    "        return self.out(x)"
   ]
  },
  {
   "cell_type": "code",
   "execution_count": 11,
   "id": "d594b9cc-bcbb-40e4-89f2-2f065a8a9b6e",
   "metadata": {},
   "outputs": [],
   "source": [
    "def train_model(model, train_loader, optimizer, num_epochs=10, verbose=True):\n",
    "    model.train()\n",
    "    loss_history = np.zeros((num_epochs,))\n",
    "    for epoch in range(num_epochs):\n",
    "        total_loss = 0\n",
    "        epoch_loss = 0\n",
    "        \n",
    "        for data, label in train_loader:\n",
    "            data, label = data.to(\"cuda\"), label.to(\"cuda\")\n",
    "            pred = model(data)\n",
    "            loss = criterion(pred, label)\n",
    "            optimizer.zero_grad()\n",
    "            loss.backward()\n",
    "            optimizer.step()\n",
    "            epoch_loss += loss.item()\n",
    "            \n",
    "        avg_loss = epoch_loss / len(train_loader)\n",
    "        loss_history[epoch] = avg_loss\n",
    "\n",
    "        if verbose:\n",
    "            print(f\"Epoch [{epoch+1}/{num_epochs}], Loss: {avg_loss:.4f}\")\n",
    "\n",
    "    return loss_history"
   ]
  },
  {
   "cell_type": "code",
   "execution_count": 20,
   "id": "6e225f92-65b2-476f-967b-0127a4ec0126",
   "metadata": {},
   "outputs": [
    {
     "name": "stdout",
     "output_type": "stream",
     "text": [
      "####################\n",
      "FOLD #1\n",
      "####################\n",
      "####################\n",
      "FOLD #2\n",
      "####################\n",
      "####################\n",
      "FOLD #3\n",
      "####################\n",
      "####################\n",
      "FOLD #4\n",
      "####################\n",
      "####################\n",
      "FOLD #5\n",
      "####################\n"
     ]
    }
   ],
   "source": [
    "REPEATS = 1\n",
    "FOLDS = 5\n",
    "EPOCHS = 5\n",
    "kf = KFold(n_splits=FOLDS, random_state=10, shuffle=True)\n",
    "\n",
    "oof_nn = np.zeros(len(train))\n",
    "pred_nn = np.zeros(len(test))\n",
    "loss_history = np.zeros((EPOCHS,))\n",
    "\n",
    "for r in range(REPEATS):\n",
    "    for i, (train_idx, test_idx) in enumerate(kf.split(train)):\n",
    "        print(\"#\" * 20)\n",
    "        print(f\"FOLD #{i+1}\")\n",
    "        print(\"#\" * 20)\n",
    "        \n",
    "        X_train = train.drop(columns=RMV).copy().loc[train_idx].values\n",
    "        y_train = train[[\"y\"]].copy().loc[train_idx].values\n",
    "    \n",
    "        X_valid = train.drop(columns=RMV).copy().loc[test_idx].values\n",
    "        y_valid = train[[\"y\"]].copy().loc[test_idx].values\n",
    "    \n",
    "        tensor_x = torch.tensor(X_train, dtype=torch.float32)\n",
    "        tensor_y = torch.tensor(y_train, dtype=torch.float32)\n",
    "    \n",
    "        train_dataset = TensorDataset(tensor_x, tensor_y)\n",
    "        train_loader = DataLoader(train_dataset, batch_size=512, shuffle=True)\n",
    "    \n",
    "        model = NeuralNetwork(input_dim=tensor_x.shape[1])\n",
    "        model.to(\"cuda\")\n",
    "        \n",
    "        criterion = nn.MSELoss()\n",
    "        optimizer = torch.optim.Adam(model.parameters(), lr=0.001, weight_decay=1e-4)\n",
    "    \n",
    "        loss_history += train_model(model, train_loader, optimizer, num_epochs=EPOCHS, verbose=False)\n",
    "    \n",
    "        # evaluate on validate set\n",
    "        tensor_x_valid = torch.tensor(X_valid, dtype=torch.float32).to(\"cuda\")\n",
    "        model.eval()\n",
    "        prediction = model(tensor_x_valid)\n",
    "        oof_nn[test_idx] += prediction.cpu().detach().numpy().flatten()\n",
    "    \n",
    "        tensor_test = torch.tensor(test.drop(columns=[\"ID\", \"efs\", \"efs_time\"]).values, dtype=torch.float32).to(\"cuda\")\n",
    "        test_pred = model(tensor_test)\n",
    "        pred_nn += test_pred.cpu().detach().numpy().flatten()\n",
    "    \n",
    "loss_history /= (FOLDS * REPEATS)\n",
    "oof_nn /= REPEATS\n",
    "pred_nn /= (FOLDS*REPEATS)"
   ]
  },
  {
   "cell_type": "code",
   "execution_count": 21,
   "id": "5c4af030-ef90-47d9-a013-183944012861",
   "metadata": {},
   "outputs": [
    {
     "data": {
      "image/png": "[encoded data removed]",
      "text/plain": [
       "<Figure size 800x600 with 1 Axes>"
      ]
     },
     "metadata": {},
     "output_type": "display_data"
    }
   ],
   "source": [
    "# Plot training loss\n",
    "plt.figure(figsize=(8, 6))\n",
    "plt.plot(range(1, EPOCHS+1), loss_history, label='Training Loss')\n",
    "plt.xlabel('Epoch')\n",
    "plt.ylabel('MSE Loss')\n",
    "plt.title('Loss Over Time')\n",
    "plt.legend()\n",
    "plt.show()"
   ]
  },
  {
   "cell_type": "code",
   "execution_count": 22,
   "id": "7fe445d5-2b40-4421-a7c5-4d3c599f7d5c",
   "metadata": {},
   "outputs": [
    {
     "name": "stdout",
     "output_type": "stream",
     "text": [
      "Overall CV for NN = 0.6284635389725288\n"
     ]
    }
   ],
   "source": [
    "y_true = train_df[[\"ID\",\"efs\",\"efs_time\",\"race_group\"]].copy()\n",
    "y_pred = train_df[[\"ID\"]].copy()\n",
    "y_pred[\"prediction\"] = rankdata(oof_nn)\n",
    "m = score(y_true.copy(), y_pred.copy(), \"ID\")\n",
    "print(f\"Overall CV for NN =\",m)"
   ]
  },
  {
   "cell_type": "code",
   "execution_count": 23,
   "id": "9f40a8c0-44db-48da-b124-c3af90644099",
   "metadata": {},
   "outputs": [
    {
     "data": {
      "text/plain": [
       "0.691510089336021"
      ]
     },
     "execution_count": 23,
     "metadata": {},
     "output_type": "execute_result"
    }
   ],
   "source": [
    "from lifelines.utils import concordance_index\n",
    "\n",
    "concordance_index(y_true[\"efs\"], y_pred[\"prediction\"], y_true[\"efs_time\"])"
   ]
  },
  {
   "cell_type": "code",
   "execution_count": null,
   "id": "ce285862-5d3b-49d0-b562-07ced568bcfc",
   "metadata": {},
   "outputs": [],
   "source": []
  }
 ],
 "metadata": {
  "kernelspec": {
   "display_name": "Python 3 (ipykernel)",
   "language": "python",
   "name": "python3"
  },
  "language_info": {
   "codemirror_mode": {
    "name": "ipython",
    "version": 3
   },
   "file_extension": ".py",
   "mimetype": "text/x-python",
   "name": "python",
   "nbconvert_exporter": "python",
   "pygments_lexer": "ipython3",
   "version": "3.11.7"
  }
 },
 "nbformat": 4,
 "nbformat_minor": 5
}
