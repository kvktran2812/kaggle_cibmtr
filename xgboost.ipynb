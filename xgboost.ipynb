{
 "cells": [
  {
   "cell_type": "code",
   "execution_count": 1,
   "id": "83e730b5-c24b-496a-8b7a-1cfb14e82303",
   "metadata": {},
   "outputs": [],
   "source": [
    "import pandas as pd\n",
    "import numpy as np\n",
    "import matplotlib.pyplot as plt\n",
    "import seaborn as sns\n",
    "\n",
    "from lifelines import CoxPHFitter, KaplanMeierFitter\n",
    "from sklearn.preprocessing import LabelEncoder\n",
    "from sklearn.model_selection import train_test_split, KFold\n",
    "from sklearn.metrics import mean_squared_error, mean_absolute_error, r2_score\n",
    "from xgboost import XGBRegressor\n",
    "from lifelines.utils import concordance_index\n",
    "from metric import score"
   ]
  },
  {
   "cell_type": "code",
   "execution_count": 28,
   "id": "a948b97b-2bbd-4c78-b893-2e810c96885c",
   "metadata": {},
   "outputs": [],
   "source": [
    "train_path = \"data/train.csv\"\n",
    "test_path = \"data/test.csv\"\n",
    "sample_path = \"data/sample_submission.csv\"\n",
    "data_dict_path = \"data/data_dictionary.csv\"\n",
    "\n",
    "train = pd.read_csv(train_path)\n",
    "test = pd.read_csv(test_path)\n",
    "data_dict_df = pd.read_csv(data_dict_path)\n",
    "\n",
    "from lifelines import KaplanMeierFitter\n",
    "def transform_survival_probability(df, time_col='efs_time', event_col='efs'):\n",
    "    kmf = KaplanMeierFitter()\n",
    "    kmf.fit(df[time_col], df[event_col])\n",
    "    y = kmf.survival_function_at_times(df[time_col]).values\n",
    "    return y\n",
    "train[\"y\"] = transform_survival_probability(train, time_col='efs_time', event_col='efs')"
   ]
  },
  {
   "cell_type": "code",
   "execution_count": 29,
   "id": "bb030ce7-cc51-4c8b-bb6c-1d53896c4395",
   "metadata": {},
   "outputs": [
    {
     "name": "stdout",
     "output_type": "stream",
     "text": [
      "Total features: 57 - ['dri_score', 'psych_disturb', 'cyto_score', 'diabetes', 'hla_match_c_high', 'hla_high_res_8', 'tbi_status', 'arrhythmia', 'hla_low_res_6', 'graft_type', 'vent_hist', 'renal_issue', 'pulm_severe', 'prim_disease_hct', 'hla_high_res_6', 'cmv_status', 'hla_high_res_10', 'hla_match_dqb1_high', 'tce_imm_match', 'hla_nmdp_6', 'hla_match_c_low', 'rituximab', 'hla_match_drb1_low', 'hla_match_dqb1_low', 'prod_type', 'cyto_score_detail', 'conditioning_intensity', 'ethnicity', 'year_hct', 'obesity', 'mrd_hct', 'in_vivo_tcd', 'tce_match', 'hla_match_a_high', 'hepatic_severe', 'donor_age', 'prior_tumor', 'hla_match_b_low', 'peptic_ulcer', 'age_at_hct', 'hla_match_a_low', 'gvhd_proph', 'rheum_issue', 'sex_match', 'hla_match_b_high', 'race_group', 'comorbidity_score', 'karnofsky_score', 'hepatic_mild', 'tce_div_match', 'donor_related', 'melphalan_dose', 'hla_low_res_8', 'cardiac', 'hla_match_drb1_high', 'pulm_moderate', 'hla_low_res_10']\n"
     ]
    }
   ],
   "source": [
    "RMV = [\"ID\", \"efs\", \"efs_time\", \"y\"]\n",
    "FEATURES = [c for c in train.columns if not c in RMV]\n",
    "print(f\"Total features: {len(FEATURES)} - {FEATURES}\")"
   ]
  },
  {
   "cell_type": "code",
   "execution_count": 30,
   "id": "782360d6-413a-462f-8a46-baff24f57be9",
   "metadata": {},
   "outputs": [
    {
     "name": "stdout",
     "output_type": "stream",
     "text": [
      "In these features, there are 35 CATEGORICAL FEATURES: ['dri_score', 'psych_disturb', 'cyto_score', 'diabetes', 'tbi_status', 'arrhythmia', 'graft_type', 'vent_hist', 'renal_issue', 'pulm_severe', 'prim_disease_hct', 'cmv_status', 'tce_imm_match', 'rituximab', 'prod_type', 'cyto_score_detail', 'conditioning_intensity', 'ethnicity', 'obesity', 'mrd_hct', 'in_vivo_tcd', 'tce_match', 'hepatic_severe', 'prior_tumor', 'peptic_ulcer', 'gvhd_proph', 'rheum_issue', 'sex_match', 'race_group', 'hepatic_mild', 'tce_div_match', 'donor_related', 'melphalan_dose', 'cardiac', 'pulm_moderate']\n"
     ]
    }
   ],
   "source": [
    "CATS = []\n",
    "for c in FEATURES:\n",
    "    if train[c].dtype==\"object\":\n",
    "        CATS.append(c)\n",
    "        train[c] = train[c].fillna(\"NAN\")\n",
    "        test[c] = test[c].fillna(\"NAN\")\n",
    "print(f\"In these features, there are {len(CATS)} CATEGORICAL FEATURES: {CATS}\")"
   ]
  },
  {
   "cell_type": "code",
   "execution_count": 31,
   "id": "6d055d86-8544-45f5-82bf-0865a7061223",
   "metadata": {},
   "outputs": [
    {
     "name": "stdout",
     "output_type": "stream",
     "text": [
      "We LABEL ENCODE the CATEGORICAL FEATURES: dri_score, psych_disturb, cyto_score, diabetes, tbi_status, arrhythmia, graft_type, vent_hist, renal_issue, pulm_severe, prim_disease_hct, cmv_status, tce_imm_match, rituximab, prod_type, cyto_score_detail, conditioning_intensity, ethnicity, obesity, mrd_hct, in_vivo_tcd, tce_match, hepatic_severe, prior_tumor, peptic_ulcer, gvhd_proph, rheum_issue, sex_match, race_group, hepatic_mild, tce_div_match, donor_related, melphalan_dose, cardiac, pulm_moderate, "
     ]
    }
   ],
   "source": [
    "combined = pd.concat([train,test],axis=0,ignore_index=True)\n",
    "#print(\"Combined data shape:\", combined.shape )\n",
    "\n",
    "# LABEL ENCODE CATEGORICAL FEATURES\n",
    "print(\"We LABEL ENCODE the CATEGORICAL FEATURES: \",end=\"\")\n",
    "for c in FEATURES:\n",
    "\n",
    "    # LABEL ENCODE CATEGORICAL AND CONVERT TO INT32 CATEGORY\n",
    "    if c in CATS:\n",
    "        print(f\"{c}, \",end=\"\")\n",
    "        combined[c],_ = combined[c].factorize()\n",
    "        combined[c] -= combined[c].min()\n",
    "        combined[c] = combined[c].astype(\"int32\")\n",
    "        combined[c] = combined[c].astype(\"category\")\n",
    "        \n",
    "    # REDUCE PRECISION OF NUMERICAL TO 32BIT TO SAVE MEMORY\n",
    "    else:\n",
    "        if combined[c].dtype==\"float64\":\n",
    "            combined[c] = combined[c].astype(\"float32\")\n",
    "        if combined[c].dtype==\"int64\":\n",
    "            combined[c] = combined[c].astype(\"int32\")\n",
    "    \n",
    "train = combined.iloc[:len(train)].copy()\n",
    "test = combined.iloc[len(train):].reset_index(drop=True).copy()\n",
    "\n",
    "# train[\"diff_age\"] = train[\"donor_age\"] - train[\"age_at_hct\"]\n",
    "# test[\"diff_age\"] = test[\"donor_age\"] - test[\"age_at_hct\"]"
   ]
  },
  {
   "cell_type": "markdown",
   "id": "1850548b-8bfa-46be-9aa8-50ab7bb84601",
   "metadata": {},
   "source": [
    "# XGBoost"
   ]
  },
  {
   "cell_type": "code",
   "execution_count": 20,
   "id": "e66996bb-d275-463a-9264-79735b89b761",
   "metadata": {},
   "outputs": [
    {
     "name": "stdout",
     "output_type": "stream",
     "text": [
      "#########################\n",
      "### Fold 1\n",
      "#########################\n",
      "[0]\tvalidation_0-rmse:0.17783\n",
      "[500]\tvalidation_0-rmse:0.15962\n",
      "[1000]\tvalidation_0-rmse:0.15752\n",
      "[1500]\tvalidation_0-rmse:0.15660\n",
      "[1999]\tvalidation_0-rmse:0.15609\n",
      "#########################\n",
      "### Fold 2\n",
      "#########################\n",
      "[0]\tvalidation_0-rmse:0.17363\n",
      "[500]\tvalidation_0-rmse:0.15573\n",
      "[1000]\tvalidation_0-rmse:0.15416\n",
      "[1500]\tvalidation_0-rmse:0.15352\n",
      "[1999]\tvalidation_0-rmse:0.15314\n",
      "#########################\n",
      "### Fold 3\n",
      "#########################\n",
      "[0]\tvalidation_0-rmse:0.17735\n",
      "[500]\tvalidation_0-rmse:0.15801\n",
      "[1000]\tvalidation_0-rmse:0.15616\n",
      "[1500]\tvalidation_0-rmse:0.15545\n",
      "[1999]\tvalidation_0-rmse:0.15505\n",
      "#########################\n",
      "### Fold 4\n",
      "#########################\n",
      "[0]\tvalidation_0-rmse:0.17931\n",
      "[500]\tvalidation_0-rmse:0.16008\n",
      "[1000]\tvalidation_0-rmse:0.15799\n",
      "[1500]\tvalidation_0-rmse:0.15713\n",
      "[1999]\tvalidation_0-rmse:0.15666\n",
      "#########################\n",
      "### Fold 5\n",
      "#########################\n",
      "[0]\tvalidation_0-rmse:0.17376\n",
      "[500]\tvalidation_0-rmse:0.15734\n",
      "[1000]\tvalidation_0-rmse:0.15558\n",
      "[1500]\tvalidation_0-rmse:0.15479\n",
      "[1999]\tvalidation_0-rmse:0.15439\n",
      "#########################\n",
      "### Fold 6\n",
      "#########################\n",
      "[0]\tvalidation_0-rmse:0.17757\n",
      "[500]\tvalidation_0-rmse:0.15955\n",
      "[1000]\tvalidation_0-rmse:0.15792\n",
      "[1500]\tvalidation_0-rmse:0.15724\n",
      "[1999]\tvalidation_0-rmse:0.15683\n",
      "#########################\n",
      "### Fold 7\n",
      "#########################\n",
      "[0]\tvalidation_0-rmse:0.17860\n",
      "[500]\tvalidation_0-rmse:0.16158\n",
      "[1000]\tvalidation_0-rmse:0.15987\n",
      "[1500]\tvalidation_0-rmse:0.15925\n",
      "[1999]\tvalidation_0-rmse:0.15889\n",
      "#########################\n",
      "### Fold 8\n",
      "#########################\n",
      "[0]\tvalidation_0-rmse:0.17469\n",
      "[500]\tvalidation_0-rmse:0.15770\n",
      "[1000]\tvalidation_0-rmse:0.15586\n",
      "[1500]\tvalidation_0-rmse:0.15499\n",
      "[1999]\tvalidation_0-rmse:0.15451\n",
      "#########################\n",
      "### Fold 9\n",
      "#########################\n",
      "[0]\tvalidation_0-rmse:0.17658\n",
      "[500]\tvalidation_0-rmse:0.16015\n",
      "[1000]\tvalidation_0-rmse:0.15857\n",
      "[1500]\tvalidation_0-rmse:0.15768\n",
      "[1999]\tvalidation_0-rmse:0.15729\n",
      "#########################\n",
      "### Fold 10\n",
      "#########################\n",
      "[0]\tvalidation_0-rmse:0.17537\n",
      "[500]\tvalidation_0-rmse:0.15816\n",
      "[1000]\tvalidation_0-rmse:0.15649\n",
      "[1500]\tvalidation_0-rmse:0.15561\n",
      "[1999]\tvalidation_0-rmse:0.15514\n"
     ]
    }
   ],
   "source": [
    "FOLDS = 10\n",
    "kf = KFold(n_splits=FOLDS, shuffle=True, random_state=42)\n",
    "    \n",
    "oof_xgb = np.zeros(len(train))\n",
    "pred_xgb = np.zeros(len(test))\n",
    "\n",
    "for i, (train_index, test_index) in enumerate(kf.split(train)):\n",
    "\n",
    "    print(\"#\"*25)\n",
    "    print(f\"### Fold {i+1}\")\n",
    "    print(\"#\"*25)\n",
    "    \n",
    "    x_train = train.loc[train_index,FEATURES].copy()\n",
    "    y_train = train.loc[train_index,\"y\"]    \n",
    "    x_valid = train.loc[test_index,FEATURES].copy()\n",
    "    y_valid = train.loc[test_index,\"y\"]\n",
    "    x_test = test[FEATURES].copy()\n",
    "\n",
    "    model_xgb = XGBRegressor(\n",
    "        device=\"cuda\",\n",
    "        max_depth=3,  \n",
    "        colsample_bytree=0.5,  \n",
    "        subsample=0.8,  \n",
    "        n_estimators=2000,  \n",
    "        learning_rate=0.02,  \n",
    "        enable_categorical=True,\n",
    "        min_child_weight=80,\n",
    "        #early_stopping_rounds=25,\n",
    "    )\n",
    "    model_xgb.fit(\n",
    "        x_train, y_train,\n",
    "        eval_set=[(x_valid, y_valid)],  \n",
    "        verbose=500 \n",
    "    )\n",
    "\n",
    "    # INFER OOF\n",
    "    oof_xgb[test_index] = model_xgb.predict(x_valid)\n",
    "    # INFER TEST\n",
    "    pred_xgb += model_xgb.predict(x_test)\n",
    "\n",
    "# COMPUTE AVERAGE TEST PREDS\n",
    "pred_xgb /= FOLDS"
   ]
  },
  {
   "cell_type": "code",
   "execution_count": 21,
   "id": "5f3bda9a-a03c-469d-8e7b-f25d0e695d43",
   "metadata": {},
   "outputs": [
    {
     "name": "stderr",
     "output_type": "stream",
     "text": [
      "C:\\Users\\tkvkh\\MyFolder\\projects\\kaggle\\cibmtr\\metric.py:36: FutureWarning: The default of observed=False is deprecated and will be changed to True in a future version of pandas. Pass observed=False to retain current behavior or observed=True to adopt the future default and silence this warning.\n",
      "  merged_df_race_dict = dict(merged_df.groupby(['race_group']).groups)\n"
     ]
    },
    {
     "name": "stdout",
     "output_type": "stream",
     "text": [
      "Overall CV for NN = 0.67339759730264\n"
     ]
    }
   ],
   "source": [
    "y_true = train[[\"ID\",\"efs\",\"efs_time\",\"race_group\"]].copy()\n",
    "y_pred = train[[\"ID\"]].copy()\n",
    "y_pred[\"prediction\"] = oof_xgb\n",
    "m = score(y_true.copy(), y_pred.copy(), \"ID\")\n",
    "print(f\"Overall CV for NN =\", m)"
   ]
  },
  {
   "cell_type": "markdown",
   "id": "33eadf2f-5497-4df4-94a3-1dd2def73a69",
   "metadata": {},
   "source": [
    "# CatBoost"
   ]
  },
  {
   "cell_type": "code",
   "execution_count": 22,
   "id": "dabede2b-c3b5-4b3b-bdca-6a77fb9fbf70",
   "metadata": {},
   "outputs": [
    {
     "name": "stdout",
     "output_type": "stream",
     "text": [
      "Using CatBoost version 1.2.7\n"
     ]
    }
   ],
   "source": [
    "from catboost import CatBoostRegressor, CatBoostClassifier\n",
    "import catboost as cb\n",
    "print(\"Using CatBoost version\",cb.__version__)"
   ]
  },
  {
   "cell_type": "code",
   "execution_count": 23,
   "id": "2da8bcc1-914e-4149-9fae-e61998657154",
   "metadata": {},
   "outputs": [
    {
     "name": "stdout",
     "output_type": "stream",
     "text": [
      "#########################\n",
      "### Fold 1\n",
      "#########################\n",
      "0:\tlearn: 0.1743389\ttest: 0.1759977\tbest: 0.1759977 (0)\ttotal: 68.9ms\tremaining: 1m 8s\n",
      "250:\tlearn: 0.1413894\ttest: 0.1575265\tbest: 0.1575265 (250)\ttotal: 5.73s\tremaining: 17.1s\n",
      "500:\tlearn: 0.1323377\ttest: 0.1569265\tbest: 0.1569142 (484)\ttotal: 17.8s\tremaining: 17.7s\n",
      "750:\tlearn: 0.1245977\ttest: 0.1570549\tbest: 0.1568170 (608)\ttotal: 29.7s\tremaining: 9.86s\n",
      "999:\tlearn: 0.1179655\ttest: 0.1569627\tbest: 0.1568170 (608)\ttotal: 41.8s\tremaining: 0us\n",
      "bestTest = 0.1568170389\n",
      "bestIteration = 608\n",
      "Shrink model to first 609 iterations.\n",
      "#########################\n",
      "### Fold 2\n",
      "#########################\n",
      "0:\tlearn: 0.1748160\ttest: 0.1717328\tbest: 0.1717328 (0)\ttotal: 18.4ms\tremaining: 18.4s\n",
      "250:\tlearn: 0.1416073\ttest: 0.1536391\tbest: 0.1536296 (249)\ttotal: 5.93s\tremaining: 17.7s\n",
      "500:\tlearn: 0.1321869\ttest: 0.1534846\tbest: 0.1533787 (319)\ttotal: 17.9s\tremaining: 17.8s\n",
      "750:\tlearn: 0.1246643\ttest: 0.1535882\tbest: 0.1531906 (566)\ttotal: 30.2s\tremaining: 10s\n",
      "999:\tlearn: 0.1182230\ttest: 0.1538081\tbest: 0.1531906 (566)\ttotal: 42.8s\tremaining: 0us\n",
      "bestTest = 0.1531905849\n",
      "bestIteration = 566\n",
      "Shrink model to first 567 iterations.\n",
      "#########################\n",
      "### Fold 3\n",
      "#########################\n",
      "0:\tlearn: 0.1744381\ttest: 0.1753212\tbest: 0.1753212 (0)\ttotal: 17.4ms\tremaining: 17.4s\n",
      "250:\tlearn: 0.1411415\ttest: 0.1552023\tbest: 0.1552023 (250)\ttotal: 5.53s\tremaining: 16.5s\n",
      "500:\tlearn: 0.1318488\ttest: 0.1548687\tbest: 0.1548098 (363)\ttotal: 17.8s\tremaining: 17.7s\n",
      "750:\tlearn: 0.1244346\ttest: 0.1549287\tbest: 0.1547724 (524)\ttotal: 29.6s\tremaining: 9.8s\n",
      "999:\tlearn: 0.1176795\ttest: 0.1553838\tbest: 0.1547724 (524)\ttotal: 41.6s\tremaining: 0us\n",
      "bestTest = 0.1547724053\n",
      "bestIteration = 524\n",
      "Shrink model to first 525 iterations.\n",
      "#########################\n",
      "### Fold 4\n",
      "#########################\n",
      "0:\tlearn: 0.1741587\ttest: 0.1774380\tbest: 0.1774380 (0)\ttotal: 17.3ms\tremaining: 17.2s\n",
      "250:\tlearn: 0.1411865\ttest: 0.1571369\tbest: 0.1571025 (234)\ttotal: 5.59s\tremaining: 16.7s\n",
      "500:\tlearn: 0.1325294\ttest: 0.1567596\tbest: 0.1566783 (465)\ttotal: 17.7s\tremaining: 17.6s\n",
      "750:\tlearn: 0.1248364\ttest: 0.1570481\tbest: 0.1566240 (568)\ttotal: 29.3s\tremaining: 9.73s\n",
      "999:\tlearn: 0.1184861\ttest: 0.1572302\tbest: 0.1566240 (568)\ttotal: 41.1s\tremaining: 0us\n",
      "bestTest = 0.1566240031\n",
      "bestIteration = 568\n",
      "Shrink model to first 569 iterations.\n",
      "#########################\n",
      "### Fold 5\n",
      "#########################\n",
      "0:\tlearn: 0.1748101\ttest: 0.1720396\tbest: 0.1720396 (0)\ttotal: 16.6ms\tremaining: 16.6s\n",
      "250:\tlearn: 0.1421210\ttest: 0.1549751\tbest: 0.1549261 (245)\ttotal: 6.21s\tremaining: 18.5s\n",
      "500:\tlearn: 0.1329259\ttest: 0.1546117\tbest: 0.1545800 (491)\ttotal: 18.1s\tremaining: 18s\n",
      "750:\tlearn: 0.1251480\ttest: 0.1547330\tbest: 0.1545800 (491)\ttotal: 29.9s\tremaining: 9.92s\n",
      "999:\tlearn: 0.1184669\ttest: 0.1549149\tbest: 0.1545800 (491)\ttotal: 42.1s\tremaining: 0us\n",
      "bestTest = 0.1545800124\n",
      "bestIteration = 491\n",
      "Shrink model to first 492 iterations.\n",
      "#########################\n",
      "### Fold 6\n",
      "#########################\n",
      "0:\tlearn: 0.1743652\ttest: 0.1756490\tbest: 0.1756490 (0)\ttotal: 16.2ms\tremaining: 16.2s\n",
      "250:\tlearn: 0.1420442\ttest: 0.1569947\tbest: 0.1569710 (245)\ttotal: 5.2s\tremaining: 15.5s\n",
      "500:\tlearn: 0.1327998\ttest: 0.1568307\tbest: 0.1565961 (427)\ttotal: 17.3s\tremaining: 17.2s\n",
      "750:\tlearn: 0.1255114\ttest: 0.1569523\tbest: 0.1565961 (427)\ttotal: 28.9s\tremaining: 9.6s\n",
      "999:\tlearn: 0.1192479\ttest: 0.1575189\tbest: 0.1565961 (427)\ttotal: 40.4s\tremaining: 0us\n",
      "bestTest = 0.1565961352\n",
      "bestIteration = 427\n",
      "Shrink model to first 428 iterations.\n",
      "#########################\n",
      "### Fold 7\n",
      "#########################\n",
      "0:\tlearn: 0.1742290\ttest: 0.1766517\tbest: 0.1766517 (0)\ttotal: 17.6ms\tremaining: 17.6s\n",
      "250:\tlearn: 0.1409011\ttest: 0.1593378\tbest: 0.1593221 (214)\ttotal: 5.81s\tremaining: 17.3s\n",
      "500:\tlearn: 0.1322069\ttest: 0.1591429\tbest: 0.1591278 (460)\ttotal: 17.5s\tremaining: 17.4s\n",
      "750:\tlearn: 0.1248727\ttest: 0.1591738\tbest: 0.1590092 (619)\ttotal: 29s\tremaining: 9.62s\n",
      "999:\tlearn: 0.1185527\ttest: 0.1592084\tbest: 0.1590092 (619)\ttotal: 40.5s\tremaining: 0us\n",
      "bestTest = 0.159009247\n",
      "bestIteration = 619\n",
      "Shrink model to first 620 iterations.\n",
      "#########################\n",
      "### Fold 8\n",
      "#########################\n",
      "0:\tlearn: 0.1746425\ttest: 0.1728699\tbest: 0.1728699 (0)\ttotal: 17.2ms\tremaining: 17.1s\n",
      "250:\tlearn: 0.1412600\ttest: 0.1560529\tbest: 0.1560117 (237)\ttotal: 6.77s\tremaining: 20.2s\n",
      "500:\tlearn: 0.1316134\ttest: 0.1553071\tbest: 0.1552589 (482)\ttotal: 18.5s\tremaining: 18.4s\n",
      "750:\tlearn: 0.1243315\ttest: 0.1556022\tbest: 0.1552589 (482)\ttotal: 30s\tremaining: 9.94s\n",
      "999:\tlearn: 0.1179038\ttest: 0.1556630\tbest: 0.1552589 (482)\ttotal: 41.3s\tremaining: 0us\n",
      "bestTest = 0.1552588839\n",
      "bestIteration = 482\n",
      "Shrink model to first 483 iterations.\n",
      "#########################\n",
      "### Fold 9\n",
      "#########################\n",
      "0:\tlearn: 0.1744301\ttest: 0.1748297\tbest: 0.1748297 (0)\ttotal: 16.7ms\tremaining: 16.7s\n",
      "250:\tlearn: 0.1413853\ttest: 0.1572645\tbest: 0.1572367 (246)\ttotal: 5.45s\tremaining: 16.3s\n",
      "500:\tlearn: 0.1325718\ttest: 0.1566638\tbest: 0.1566276 (491)\ttotal: 17.3s\tremaining: 17.2s\n",
      "750:\tlearn: 0.1251601\ttest: 0.1566078\tbest: 0.1565470 (659)\ttotal: 28.7s\tremaining: 9.52s\n",
      "999:\tlearn: 0.1189884\ttest: 0.1566691\tbest: 0.1565470 (659)\ttotal: 40.2s\tremaining: 0us\n",
      "bestTest = 0.1565469759\n",
      "bestIteration = 659\n",
      "Shrink model to first 660 iterations.\n",
      "#########################\n",
      "### Fold 10\n",
      "#########################\n",
      "0:\tlearn: 0.1746148\ttest: 0.1734699\tbest: 0.1734699 (0)\ttotal: 16.7ms\tremaining: 16.7s\n",
      "250:\tlearn: 0.1420241\ttest: 0.1562880\tbest: 0.1561621 (228)\ttotal: 5.47s\tremaining: 16.3s\n",
      "500:\tlearn: 0.1329539\ttest: 0.1557264\tbest: 0.1556091 (449)\ttotal: 17s\tremaining: 17s\n",
      "750:\tlearn: 0.1255527\ttest: 0.1557136\tbest: 0.1555915 (583)\ttotal: 28.9s\tremaining: 9.57s\n",
      "999:\tlearn: 0.1195502\ttest: 0.1556877\tbest: 0.1555915 (583)\ttotal: 40.3s\tremaining: 0us\n",
      "bestTest = 0.1555914501\n",
      "bestIteration = 583\n",
      "Shrink model to first 584 iterations.\n"
     ]
    }
   ],
   "source": [
    "FOLDS = 10\n",
    "kf = KFold(n_splits=FOLDS, shuffle=True, random_state=42)\n",
    "    \n",
    "oof_cat = np.zeros(len(train))\n",
    "pred_cat = np.zeros(len(test))\n",
    "\n",
    "for i, (train_index, test_index) in enumerate(kf.split(train)):\n",
    "    print(f\"### Fold {i+1}\")\n",
    "    \n",
    "    x_train = train.loc[train_index,FEATURES].copy()\n",
    "    y_train = train.loc[train_index,\"y\"]\n",
    "    x_valid = train.loc[test_index,FEATURES].copy()\n",
    "    y_valid = train.loc[test_index,\"y\"]\n",
    "    x_test = test[FEATURES].copy()\n",
    "\n",
    "    model_cat = CatBoostRegressor(\n",
    "        task_type=\"GPU\",  \n",
    "        learning_rate=0.1,    \n",
    "        grow_policy='Lossguide',\n",
    "        #early_stopping_rounds=25,\n",
    "    )\n",
    "    model_cat.fit(x_train,y_train,\n",
    "              eval_set=(x_valid, y_valid),\n",
    "              cat_features=CATS,\n",
    "              verbose=250)\n",
    "\n",
    "    # INFER OOF\n",
    "    oof_cat[test_index] = model_cat.predict(x_valid)\n",
    "    # INFER TEST\n",
    "    pred_cat += model_cat.predict(x_test)\n",
    "\n",
    "# COMPUTE AVERAGE TEST PREDS\n",
    "pred_cat /= FOLDS"
   ]
  },
  {
   "cell_type": "code",
   "execution_count": 24,
   "id": "d1c846e7-ec90-4092-8073-1a57092481ab",
   "metadata": {},
   "outputs": [
    {
     "name": "stderr",
     "output_type": "stream",
     "text": [
      "C:\\Users\\tkvkh\\MyFolder\\projects\\kaggle\\cibmtr\\metric.py:36: FutureWarning: The default of observed=False is deprecated and will be changed to True in a future version of pandas. Pass observed=False to retain current behavior or observed=True to adopt the future default and silence this warning.\n",
      "  merged_df_race_dict = dict(merged_df.groupby(['race_group']).groups)\n"
     ]
    },
    {
     "name": "stdout",
     "output_type": "stream",
     "text": [
      "\n",
      "Overall CV for CatBoost KaplanMeier = 0.6724408792074619\n"
     ]
    }
   ],
   "source": [
    "y_true = train[[\"ID\",\"efs\",\"efs_time\",\"race_group\"]].copy()\n",
    "y_pred = train[[\"ID\"]].copy()\n",
    "y_pred[\"prediction\"] = oof_cat\n",
    "m = score(y_true.copy(), y_pred.copy(), \"ID\")\n",
    "print(f\"\\nOverall CV for CatBoost KaplanMeier =\",m)"
   ]
  },
  {
   "cell_type": "markdown",
   "id": "5686d72c-8dff-45f0-bd56-edff35400a5d",
   "metadata": {},
   "source": [
    "# LightBGM "
   ]
  },
  {
   "cell_type": "code",
   "execution_count": 32,
   "id": "ec4c5d67-da0c-4343-b766-58c82c419dec",
   "metadata": {},
   "outputs": [
    {
     "name": "stdout",
     "output_type": "stream",
     "text": [
      "Using LightGBM version 4.5.0\n"
     ]
    }
   ],
   "source": [
    "from lightgbm import LGBMRegressor\n",
    "import lightgbm as lgb\n",
    "print(\"Using LightGBM version\",lgb.__version__)"
   ]
  },
  {
   "cell_type": "code",
   "execution_count": 33,
   "id": "6dfc3d7d-5bb4-4c1b-b645-dae5eb15e13c",
   "metadata": {},
   "outputs": [
    {
     "name": "stdout",
     "output_type": "stream",
     "text": [
      "### Fold 1\n",
      "### Fold 2\n",
      "### Fold 3\n",
      "### Fold 4\n",
      "### Fold 5\n",
      "### Fold 6\n",
      "### Fold 7\n",
      "### Fold 8\n",
      "### Fold 9\n",
      "### Fold 10\n"
     ]
    }
   ],
   "source": [
    "FOLDS = 10\n",
    "kf = KFold(n_splits=FOLDS, shuffle=True, random_state=42)\n",
    "    \n",
    "oof_lgb = np.zeros(len(train))\n",
    "pred_lgb = np.zeros(len(test))\n",
    "\n",
    "for i, (train_index, test_index) in enumerate(kf.split(train)):\n",
    "    print(f\"### Fold {i+1}\")\n",
    "    \n",
    "    x_train = train.loc[train_index,FEATURES].copy()\n",
    "    y_train = train.loc[train_index,\"y\"]    \n",
    "    x_valid = train.loc[test_index,FEATURES].copy()\n",
    "    y_valid = train.loc[test_index,\"y\"]\n",
    "    x_test = test[FEATURES].copy()\n",
    "\n",
    "    model_lgb = LGBMRegressor(\n",
    "        device=\"gpu\", \n",
    "        max_depth=3, \n",
    "        colsample_bytree=0.4,  \n",
    "        subsample=0.9, \n",
    "        n_estimators=2500, \n",
    "        learning_rate=0.02, \n",
    "        objective=\"regression\", \n",
    "        verbose=-1, \n",
    "        early_stopping_rounds=25,\n",
    "    )\n",
    "    model_lgb.fit(\n",
    "        x_train, y_train,\n",
    "        eval_set=[(x_valid, y_valid)],\n",
    "    )\n",
    "    \n",
    "    # INFER OOF\n",
    "    oof_lgb[test_index] = model_lgb.predict(x_valid)\n",
    "    # INFER TEST\n",
    "    pred_lgb += model_lgb.predict(x_test)\n",
    "\n",
    "# COMPUTE AVERAGE TEST PREDS\n",
    "pred_lgb /= FOLDS"
   ]
  },
  {
   "cell_type": "code",
   "execution_count": 34,
   "id": "4448d189-5517-44da-8c13-d2448391ad15",
   "metadata": {},
   "outputs": [
    {
     "name": "stderr",
     "output_type": "stream",
     "text": [
      "C:\\Users\\tkvkh\\MyFolder\\projects\\kaggle\\cibmtr\\metric.py:36: FutureWarning: The default of observed=False is deprecated and will be changed to True in a future version of pandas. Pass observed=False to retain current behavior or observed=True to adopt the future default and silence this warning.\n",
      "  merged_df_race_dict = dict(merged_df.groupby(['race_group']).groups)\n"
     ]
    },
    {
     "name": "stdout",
     "output_type": "stream",
     "text": [
      "\n",
      "Overall CV for LightGBM KaplanMeier = 0.6720293327774735\n"
     ]
    }
   ],
   "source": [
    "y_true = train[[\"ID\",\"efs\",\"efs_time\",\"race_group\"]].copy()\n",
    "y_pred = train[[\"ID\"]].copy()\n",
    "y_pred[\"prediction\"] = oof_lgb\n",
    "m = score(y_true.copy(), y_pred.copy(), \"ID\")\n",
    "print(f\"\\nOverall CV for LightGBM KaplanMeier =\",m)"
   ]
  },
  {
   "cell_type": "code",
   "execution_count": 17,
   "id": "050d1fee-69d7-42f3-8a82-d51baed7a459",
   "metadata": {},
   "outputs": [
    {
     "name": "stderr",
     "output_type": "stream",
     "text": [
      "C:\\Users\\tkvkh\\MyFolder\\projects\\kaggle\\cibmtr\\metric.py:36: FutureWarning: The default of observed=False is deprecated and will be changed to True in a future version of pandas. Pass observed=False to retain current behavior or observed=True to adopt the future default and silence this warning.\n",
      "  merged_df_race_dict = dict(merged_df.groupby(['race_group']).groups)\n"
     ]
    },
    {
     "name": "stdout",
     "output_type": "stream",
     "text": [
      "\n",
      "Overall CV for Ensemble = 0.675534682796955\n"
     ]
    }
   ],
   "source": [
    "from scipy.stats import rankdata \n",
    "\n",
    "y_true = train[[\"ID\",\"efs\",\"efs_time\",\"race_group\"]].copy()\n",
    "y_pred = train[[\"ID\"]].copy()\n",
    "y_pred[\"prediction\"] = rankdata(oof_xgb) + rankdata(oof_cat) + rankdata(oof_lgb)\n",
    "m = score(y_true.copy(), y_pred.copy(), \"ID\")\n",
    "print(f\"\\nOverall CV for Ensemble =\",m)"
   ]
  },
  {
   "cell_type": "code",
   "execution_count": null,
   "id": "942ca36b-5e26-4978-a66b-976e92340ad3",
   "metadata": {},
   "outputs": [],
   "source": [
    "train"
   ]
  }
 ],
 "metadata": {
  "kernelspec": {
   "display_name": "Python 3 (ipykernel)",
   "language": "python",
   "name": "python3"
  },
  "language_info": {
   "codemirror_mode": {
    "name": "ipython",
    "version": 3
   },
   "file_extension": ".py",
   "mimetype": "text/x-python",
   "name": "python",
   "nbconvert_exporter": "python",
   "pygments_lexer": "ipython3",
   "version": "3.11.7"
  }
 },
 "nbformat": 4,
 "nbformat_minor": 5
}
