{
 "cells": [
  {
   "cell_type": "code",
   "execution_count": 24,
   "id": "83e730b5-c24b-496a-8b7a-1cfb14e82303",
   "metadata": {},
   "outputs": [],
   "source": [
    "import pandas as pd\n",
    "import numpy as np\n",
    "import matplotlib.pyplot as plt\n",
    "import seaborn as sns\n",
    "\n",
    "from lifelines import CoxPHFitter, KaplanMeierFitter\n",
    "from sklearn.preprocessing import LabelEncoder\n",
    "from sklearn.model_selection import train_test_split, KFold\n",
    "from sklearn.metrics import mean_squared_error, mean_absolute_error, r2_score\n",
    "from xgboost import XGBRegressor\n",
    "from lifelines.utils import concordance_index\n",
    "from metric import score"
   ]
  },
  {
   "cell_type": "code",
   "execution_count": 2,
   "id": "a948b97b-2bbd-4c78-b893-2e810c96885c",
   "metadata": {},
   "outputs": [],
   "source": [
    "train_path = \"data/train.csv\"\n",
    "test_path = \"data/test.csv\"\n",
    "sample_path = \"data/sample_submission.csv\"\n",
    "data_dict_path = \"data/data_dictionary.csv\"\n",
    "\n",
    "train_df = pd.read_csv(train_path)\n",
    "test_df = pd.read_csv(test_path)\n",
    "data_dict_df = pd.read_csv(data_dict_path)"
   ]
  },
  {
   "cell_type": "code",
   "execution_count": 6,
   "id": "bb030ce7-cc51-4c8b-bb6c-1d53896c4395",
   "metadata": {},
   "outputs": [
    {
     "name": "stdout",
     "output_type": "stream",
     "text": [
      "Total features: 57 - ['dri_score', 'psych_disturb', 'cyto_score', 'diabetes', 'hla_match_c_high', 'hla_high_res_8', 'tbi_status', 'arrhythmia', 'hla_low_res_6', 'graft_type', 'vent_hist', 'renal_issue', 'pulm_severe', 'prim_disease_hct', 'hla_high_res_6', 'cmv_status', 'hla_high_res_10', 'hla_match_dqb1_high', 'tce_imm_match', 'hla_nmdp_6', 'hla_match_c_low', 'rituximab', 'hla_match_drb1_low', 'hla_match_dqb1_low', 'prod_type', 'cyto_score_detail', 'conditioning_intensity', 'ethnicity', 'year_hct', 'obesity', 'mrd_hct', 'in_vivo_tcd', 'tce_match', 'hla_match_a_high', 'hepatic_severe', 'donor_age', 'prior_tumor', 'hla_match_b_low', 'peptic_ulcer', 'age_at_hct', 'hla_match_a_low', 'gvhd_proph', 'rheum_issue', 'sex_match', 'hla_match_b_high', 'race_group', 'comorbidity_score', 'karnofsky_score', 'hepatic_mild', 'tce_div_match', 'donor_related', 'melphalan_dose', 'hla_low_res_8', 'cardiac', 'hla_match_drb1_high', 'pulm_moderate', 'hla_low_res_10']\n"
     ]
    }
   ],
   "source": [
    "RMV = [\"ID\", \"efs\", \"efs_time\", \"y\"]\n",
    "FEATURES = [c for c in train_df.columns if not c in RMV]\n",
    "print(f\"Total features: {len(FEATURES)} - {FEATURES}\")"
   ]
  },
  {
   "cell_type": "code",
   "execution_count": 7,
   "id": "782360d6-413a-462f-8a46-baff24f57be9",
   "metadata": {},
   "outputs": [
    {
     "name": "stdout",
     "output_type": "stream",
     "text": [
      "Categorical features: 35 - ['dri_score', 'psych_disturb', 'cyto_score', 'diabetes', 'tbi_status', 'arrhythmia', 'graft_type', 'vent_hist', 'renal_issue', 'pulm_severe', 'prim_disease_hct', 'cmv_status', 'tce_imm_match', 'rituximab', 'prod_type', 'cyto_score_detail', 'conditioning_intensity', 'ethnicity', 'obesity', 'mrd_hct', 'in_vivo_tcd', 'tce_match', 'hepatic_severe', 'prior_tumor', 'peptic_ulcer', 'gvhd_proph', 'rheum_issue', 'sex_match', 'race_group', 'hepatic_mild', 'tce_div_match', 'donor_related', 'melphalan_dose', 'cardiac', 'pulm_moderate']\n"
     ]
    }
   ],
   "source": [
    "CAT_FEATURES = []\n",
    "for f in FEATURES:\n",
    "    if train_df[f].dtype == \"object\":\n",
    "        CAT_FEATURES.append(f)\n",
    "        train_df[f] = train_df[f].fillna(\"NAN\")\n",
    "        test_df[f] = test_df[f].fillna(\"NAN\")\n",
    "\n",
    "print(f\"Categorical features: {len(CAT_FEATURES)} - {CAT_FEATURES}\")"
   ]
  },
  {
   "cell_type": "code",
   "execution_count": 10,
   "id": "6d055d86-8544-45f5-82bf-0865a7061223",
   "metadata": {},
   "outputs": [
    {
     "name": "stdout",
     "output_type": "stream",
     "text": [
      "We LABEL ENCODE the CATEGORICAL FEATURES: dri_score, psych_disturb, cyto_score, diabetes, tbi_status, arrhythmia, graft_type, vent_hist, renal_issue, pulm_severe, prim_disease_hct, cmv_status, tce_imm_match, rituximab, prod_type, cyto_score_detail, conditioning_intensity, ethnicity, obesity, mrd_hct, in_vivo_tcd, tce_match, hepatic_severe, prior_tumor, peptic_ulcer, gvhd_proph, rheum_issue, sex_match, race_group, hepatic_mild, tce_div_match, donor_related, melphalan_dose, cardiac, pulm_moderate, "
     ]
    }
   ],
   "source": [
    "combined = pd.concat([train_df,test_df],axis=0,ignore_index=True)\n",
    "#print(\"Combined data shape:\", combined.shape )\n",
    "\n",
    "# LABEL ENCODE CATEGORICAL FEATURES\n",
    "print(\"We LABEL ENCODE the CATEGORICAL FEATURES: \",end=\"\")\n",
    "for c in FEATURES:\n",
    "\n",
    "    # LABEL ENCODE CATEGORICAL AND CONVERT TO INT32 CATEGORY\n",
    "    if c in CAT_FEATURES:\n",
    "        print(f\"{c}, \",end=\"\")\n",
    "        combined[c],_ = combined[c].factorize()\n",
    "        combined[c] -= combined[c].min()\n",
    "        combined[c] = combined[c].astype(\"int32\")\n",
    "        combined[c] = combined[c].astype(\"category\")\n",
    "        \n",
    "    # REDUCE PRECISION OF NUMERICAL TO 32BIT TO SAVE MEMORY\n",
    "    else:\n",
    "        if combined[c].dtype==\"float64\":\n",
    "            combined[c] = combined[c].astype(\"float32\")\n",
    "        if combined[c].dtype==\"int64\":\n",
    "            combined[c] = combined[c].astype(\"int32\")\n",
    "    \n",
    "train = combined.iloc[:len(train_df)].copy()\n",
    "test = combined.iloc[len(train_df):].reset_index(drop=True).copy()"
   ]
  },
  {
   "cell_type": "code",
   "execution_count": 13,
   "id": "144d9c89-0367-4cc9-9691-3ae4b374b56d",
   "metadata": {},
   "outputs": [],
   "source": [
    "train[\"efs_time2\"] = train.efs_time.copy()\n",
    "train.loc[train.efs==0,\"efs_time2\"] *= -1"
   ]
  },
  {
   "cell_type": "code",
   "execution_count": 14,
   "id": "e66996bb-d275-463a-9264-79735b89b761",
   "metadata": {},
   "outputs": [
    {
     "name": "stdout",
     "output_type": "stream",
     "text": [
      "#########################\n",
      "### Fold 1\n",
      "#########################\n",
      "[0]\tvalidation_0-cox-nloglik:7.62530\n",
      "[500]\tvalidation_0-cox-nloglik:7.43349\n",
      "[1000]\tvalidation_0-cox-nloglik:7.41697\n",
      "[1500]\tvalidation_0-cox-nloglik:7.41101\n",
      "[1999]\tvalidation_0-cox-nloglik:7.40840\n"
     ]
    },
    {
     "name": "stderr",
     "output_type": "stream",
     "text": [
      "C:\\Users\\tkvkh\\AppData\\Local\\Programs\\Python\\Python311\\Lib\\site-packages\\xgboost\\core.py:158: UserWarning: [14:27:26] WARNING: C:\\buildkite-agent\\builds\\buildkite-windows-cpu-autoscaling-group-i-0ed59c031377d09b8-1\\xgboost\\xgboost-ci-windows\\src\\common\\error_msg.cc:58: Falling back to prediction using DMatrix due to mismatched devices. This might lead to higher memory usage and slower performance. XGBoost is running on: cuda:0, while the input data is on: cpu.\n",
      "Potential solutions:\n",
      "- Use a data structure that matches the device ordinal in the booster.\n",
      "- Set the device for booster before call to inplace_predict.\n",
      "\n",
      "This warning will only be shown once.\n",
      "\n",
      "  warnings.warn(smsg, UserWarning)\n"
     ]
    },
    {
     "name": "stdout",
     "output_type": "stream",
     "text": [
      "#########################\n",
      "### Fold 2\n",
      "#########################\n",
      "[0]\tvalidation_0-cox-nloglik:7.61840\n",
      "[500]\tvalidation_0-cox-nloglik:7.41088\n",
      "[1000]\tvalidation_0-cox-nloglik:7.39690\n",
      "[1500]\tvalidation_0-cox-nloglik:7.39101\n",
      "[1999]\tvalidation_0-cox-nloglik:7.38823\n",
      "#########################\n",
      "### Fold 3\n",
      "#########################\n",
      "[0]\tvalidation_0-cox-nloglik:7.61061\n",
      "[500]\tvalidation_0-cox-nloglik:7.40567\n",
      "[1000]\tvalidation_0-cox-nloglik:7.39170\n",
      "[1500]\tvalidation_0-cox-nloglik:7.38731\n",
      "[1999]\tvalidation_0-cox-nloglik:7.38676\n",
      "#########################\n",
      "### Fold 4\n",
      "#########################\n",
      "[0]\tvalidation_0-cox-nloglik:7.60592\n",
      "[500]\tvalidation_0-cox-nloglik:7.41103\n",
      "[1000]\tvalidation_0-cox-nloglik:7.40040\n",
      "[1500]\tvalidation_0-cox-nloglik:7.39846\n",
      "[1999]\tvalidation_0-cox-nloglik:7.39842\n",
      "#########################\n",
      "### Fold 5\n",
      "#########################\n",
      "[0]\tvalidation_0-cox-nloglik:7.62990\n",
      "[500]\tvalidation_0-cox-nloglik:7.42545\n",
      "[1000]\tvalidation_0-cox-nloglik:7.40810\n",
      "[1500]\tvalidation_0-cox-nloglik:7.40125\n",
      "[1999]\tvalidation_0-cox-nloglik:7.39737\n",
      "#########################\n",
      "### Fold 6\n",
      "#########################\n",
      "[0]\tvalidation_0-cox-nloglik:7.61370\n",
      "[500]\tvalidation_0-cox-nloglik:7.40342\n",
      "[1000]\tvalidation_0-cox-nloglik:7.39230\n",
      "[1500]\tvalidation_0-cox-nloglik:7.38927\n",
      "[1999]\tvalidation_0-cox-nloglik:7.38791\n",
      "#########################\n",
      "### Fold 7\n",
      "#########################\n",
      "[0]\tvalidation_0-cox-nloglik:7.63082\n",
      "[500]\tvalidation_0-cox-nloglik:7.44300\n",
      "[1000]\tvalidation_0-cox-nloglik:7.42942\n",
      "[1500]\tvalidation_0-cox-nloglik:7.42318\n",
      "[1999]\tvalidation_0-cox-nloglik:7.42077\n",
      "#########################\n",
      "### Fold 8\n",
      "#########################\n",
      "[0]\tvalidation_0-cox-nloglik:7.61759\n",
      "[500]\tvalidation_0-cox-nloglik:7.44110\n",
      "[1000]\tvalidation_0-cox-nloglik:7.42720\n",
      "[1500]\tvalidation_0-cox-nloglik:7.42169\n",
      "[1999]\tvalidation_0-cox-nloglik:7.41934\n",
      "#########################\n",
      "### Fold 9\n",
      "#########################\n",
      "[0]\tvalidation_0-cox-nloglik:7.61764\n",
      "[500]\tvalidation_0-cox-nloglik:7.44645\n",
      "[1000]\tvalidation_0-cox-nloglik:7.43560\n",
      "[1500]\tvalidation_0-cox-nloglik:7.43067\n",
      "[1999]\tvalidation_0-cox-nloglik:7.42900\n",
      "#########################\n",
      "### Fold 10\n",
      "#########################\n",
      "[0]\tvalidation_0-cox-nloglik:7.61745\n",
      "[500]\tvalidation_0-cox-nloglik:7.43343\n",
      "[1000]\tvalidation_0-cox-nloglik:7.42163\n",
      "[1500]\tvalidation_0-cox-nloglik:7.41908\n",
      "[1999]\tvalidation_0-cox-nloglik:7.41600\n"
     ]
    }
   ],
   "source": [
    "FOLDS = 10\n",
    "kf = KFold(n_splits=FOLDS, shuffle=True, random_state=42)\n",
    "    \n",
    "oof_xgb_cox = np.zeros(len(train))\n",
    "pred_xgb_cox = np.zeros(len(test))\n",
    "\n",
    "for i, (train_index, test_index) in enumerate(kf.split(train)):\n",
    "\n",
    "    print(\"#\"*25)\n",
    "    print(f\"### Fold {i+1}\")\n",
    "    print(\"#\"*25)\n",
    "    \n",
    "    x_train = train.loc[train_index,FEATURES].copy()\n",
    "    y_train = train.loc[train_index,\"efs_time2\"]    \n",
    "    x_valid = train.loc[test_index,FEATURES].copy()\n",
    "    y_valid = train.loc[test_index,\"efs_time2\"]\n",
    "    x_test = test[FEATURES].copy()\n",
    "\n",
    "    model_xgb_cox = XGBRegressor(\n",
    "        device=\"cuda\",\n",
    "        max_depth=3,  \n",
    "        colsample_bytree=0.5,  \n",
    "        subsample=0.8,  \n",
    "        n_estimators=2000,  \n",
    "        learning_rate=0.02,  \n",
    "        enable_categorical=True,\n",
    "        min_child_weight=80,\n",
    "        objective='survival:cox',\n",
    "        eval_metric='cox-nloglik',\n",
    "    )\n",
    "    model_xgb_cox.fit(\n",
    "        x_train, y_train,\n",
    "        eval_set=[(x_valid, y_valid)],  \n",
    "        verbose=500  \n",
    "    )\n",
    "    \n",
    "    # INFER OOF\n",
    "    oof_xgb_cox[test_index] = model_xgb_cox.predict(x_valid)\n",
    "    # INFER TEST\n",
    "    pred_xgb_cox += model_xgb_cox.predict(x_test)\n",
    "\n",
    "# COMPUTE AVERAGE TEST PREDS\n",
    "pred_xgb_cox /= FOLDS"
   ]
  },
  {
   "cell_type": "code",
   "execution_count": null,
   "id": "5f3bda9a-a03c-469d-8e7b-f25d0e695d43",
   "metadata": {},
   "outputs": [],
   "source": []
  }
 ],
 "metadata": {
  "kernelspec": {
   "display_name": "Python 3 (ipykernel)",
   "language": "python",
   "name": "python3"
  },
  "language_info": {
   "codemirror_mode": {
    "name": "ipython",
    "version": 3
   },
   "file_extension": ".py",
   "mimetype": "text/x-python",
   "name": "python",
   "nbconvert_exporter": "python",
   "pygments_lexer": "ipython3",
   "version": "3.11.7"
  }
 },
 "nbformat": 4,
 "nbformat_minor": 5
}
