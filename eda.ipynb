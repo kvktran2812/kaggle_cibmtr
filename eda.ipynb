{
 "cells": [
  {
   "cell_type": "code",
   "execution_count": 1,
   "id": "aae86893-31ca-4d24-ae9e-94ec7f6bfb0d",
   "metadata": {},
   "outputs": [],
   "source": [
    "import pandas as pd\n",
    "import numpy as np\n",
    "import matplotlib.pyplot as plt\n",
    "import seaborn as sns\n",
    "from lifelines import CoxPHFitter, KaplanMeierFitter\n",
    "from sklearn.preprocessing import LabelEncoder"
   ]
  },
  {
   "cell_type": "code",
   "execution_count": 2,
   "id": "576f84df-cc98-4f09-97ac-cf821505c240",
   "metadata": {},
   "outputs": [],
   "source": [
    "train_path = \"data/train.csv\"\n",
    "test_path = \"data/test.csv\"\n",
    "sample_path = \"data/sample_submission.csv\"\n",
    "data_dict = \"data/data_dictionary.csv\"\n",
    "\n",
    "train = pd.read_csv(train_path)"
   ]
  },
  {
   "cell_type": "code",
   "execution_count": 17,
   "id": "d4718441-3af6-44b3-a6c7-dc01c10648b5",
   "metadata": {},
   "outputs": [],
   "source": [
    "missing_indices = train[train[\"donor_age\"].isna()].index\n",
    "random_samples = np.random.choice(train[\"donor_age\"].dropna(), size=len(missing_indices), replace=True)\n",
    "\n",
    "# Assign random samples to the missing values\n",
    "train.loc[missing_indices, \"donor_age\"] = random_samples"
   ]
  },
  {
   "cell_type": "code",
   "execution_count": 25,
   "id": "140d8348-9891-4a35-ace4-c6be21f2d647",
   "metadata": {},
   "outputs": [
    {
     "name": "stdout",
     "output_type": "stream",
     "text": [
      "ID: 28800\n",
      "donor_age: 20909\n",
      "age_at_hct: 22168\n",
      "efs_time: 19208\n",
      "4\n"
     ]
    }
   ],
   "source": [
    "count = 0\n",
    "for col in train.columns:\n",
    "    if train[col].dtype != \"object\" and len(train[col].unique()) >= 100:\n",
    "        count += 1\n",
    "        print(f\"{col}: {len(train[col].unique())}\")\n",
    "\n",
    "print(count)"
   ]
  },
  {
   "cell_type": "code",
   "execution_count": 26,
   "id": "5901f269-0e05-4ea5-9827-55d27f94d8d3",
   "metadata": {},
   "outputs": [
    {
     "name": "stdout",
     "output_type": "stream",
     "text": [
      "dri_score: ['N/A - non-malignant indication' 'Intermediate' 'High' 'Low'\n",
      " 'N/A - disease not classifiable' 'N/A - pediatric' 'TBD cytogenetics'\n",
      " 'Intermediate - TED AML case <missing cytogenetics' nan\n",
      " 'High - TED AML case <missing cytogenetics' 'Very high'\n",
      " 'Missing disease status']\n",
      "psych_disturb: ['No' 'Not done' 'Yes' nan]\n",
      "cyto_score: [nan 'Intermediate' 'Poor' 'Other' 'Favorable' 'TBD' 'Normal' 'Not tested']\n",
      "diabetes: ['No' 'Yes' 'Not done' nan]\n",
      "tbi_status: ['No TBI' 'TBI +- Other, >cGy' 'TBI + Cy +- Other' 'TBI +- Other, <=cGy'\n",
      " 'TBI +- Other, unknown dose' 'TBI +- Other, -cGy, fractionated'\n",
      " 'TBI +- Other, -cGy, single' 'TBI +- Other, -cGy, unknown dose']\n",
      "arrhythmia: ['No' 'Yes' nan 'Not done']\n",
      "graft_type: ['Bone marrow' 'Peripheral blood']\n",
      "vent_hist: ['No' 'Yes' nan]\n",
      "renal_issue: ['No' nan 'Yes' 'Not done']\n",
      "pulm_severe: ['No' 'Yes' nan 'Not done']\n",
      "prim_disease_hct: ['IEA' 'AML' 'HIS' 'ALL' 'MPN' 'IIS' 'Solid tumor' 'Other leukemia' 'PCD'\n",
      " 'IPA' 'IMD' 'MDS' 'NHL' 'SAA' 'AI' 'CML' 'Other acute leukemia' 'HD']\n",
      "cmv_status: ['+/+' '-/+' '-/-' nan '+/-']\n",
      "tce_imm_match: [nan 'P/P' 'G/B' 'H/B' 'G/G' 'P/H' 'P/B' 'H/H' 'P/G']\n",
      "rituximab: ['No' nan 'Yes']\n",
      "prod_type: ['BM' 'PB']\n",
      "cyto_score_detail: [nan 'Intermediate' 'TBD' 'Poor' 'Favorable' 'Not tested']\n",
      "conditioning_intensity: [nan 'MAC' 'RIC' 'NMA' 'TBD' 'No drugs reported'\n",
      " 'N/A, F(pre-TED) not submitted']\n",
      "ethnicity: ['Not Hispanic or Latino' 'Hispanic or Latino' nan\n",
      " 'Non-resident of the U.S.']\n",
      "obesity: ['No' 'Yes' nan 'Not done']\n",
      "mrd_hct: [nan 'Positive' 'Negative']\n",
      "in_vivo_tcd: ['Yes' 'No' nan]\n",
      "tce_match: [nan 'Permissive' 'HvG non-permissive' 'Fully matched'\n",
      " 'GvH non-permissive']\n",
      "hepatic_severe: ['No' 'Yes' nan 'Not done']\n",
      "prior_tumor: ['No' 'Yes' nan 'Not done']\n",
      "peptic_ulcer: ['No' nan 'Yes' 'Not done']\n",
      "gvhd_proph: ['FKalone' 'Other GVHD Prophylaxis' 'Cyclophosphamide alone'\n",
      " 'FK+ MMF +- others' 'TDEPLETION +- other' 'CSA + MMF +- others(not FK)'\n",
      " 'CSA + MTX +- others(not MMF,FK)' 'FK+ MTX +- others(not MMF)'\n",
      " 'Cyclophosphamide +- others' 'CSA alone' nan 'TDEPLETION alone'\n",
      " 'No GvHD Prophylaxis' 'CDselect alone' 'CDselect +- other'\n",
      " 'Parent Q = yes, but no agent' 'FK+- others(not MMF,MTX)'\n",
      " 'CSA +- others(not FK,MMF,MTX)']\n",
      "rheum_issue: ['No' nan 'Yes' 'Not done']\n",
      "sex_match: ['M-F' 'F-F' 'F-M' 'M-M' nan]\n",
      "race_group: ['More than one race' 'Asian' 'White' 'American Indian or Alaska Native'\n",
      " 'Native Hawaiian or other Pacific Islander' 'Black or African-American']\n",
      "hepatic_mild: ['No' 'Yes' nan 'Not done']\n",
      "tce_div_match: [nan 'Permissive mismatched' 'GvH non-permissive' 'HvG non-permissive'\n",
      " 'Bi-directional non-permissive']\n",
      "donor_related: ['Unrelated' 'Related' 'Multiple donor (non-UCB)' nan]\n",
      "melphalan_dose: ['N/A, Mel not given' 'MEL' nan]\n",
      "cardiac: ['No' 'Yes' 'Not done' nan]\n",
      "pulm_moderate: ['No' 'Yes' 'Not done' nan]\n",
      "35\n"
     ]
    }
   ],
   "source": [
    "count = 0\n",
    "for col in train.columns:\n",
    "    if train[col].dtype == \"object\":\n",
    "        # if 'Not done' in train[col].unique():\n",
    "        #     print(f\"{col}: Not done\")\n",
    "        #     train[col] = train[col].fillna('Not Done')\n",
    "        if 'Not tested' in train[col].unique():\n",
    "            train[col] = train[col].fillna('Not Done')\n",
    "        count += 1\n",
    "        print(f\"{col}: {train[col].unique()}\")\n",
    "\n",
    "print(count)"
   ]
  },
  {
   "cell_type": "code",
   "execution_count": null,
   "id": "81e348fc-578a-4116-aa56-64140e9597a3",
   "metadata": {},
   "outputs": [],
   "source": []
  }
 ],
 "metadata": {
  "kernelspec": {
   "display_name": "Python 3 (ipykernel)",
   "language": "python",
   "name": "python3"
  },
  "language_info": {
   "codemirror_mode": {
    "name": "ipython",
    "version": 3
   },
   "file_extension": ".py",
   "mimetype": "text/x-python",
   "name": "python",
   "nbconvert_exporter": "python",
   "pygments_lexer": "ipython3",
   "version": "3.11.7"
  }
 },
 "nbformat": 4,
 "nbformat_minor": 5
}
