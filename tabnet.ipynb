{
 "cells": [
  {
   "cell_type": "code",
   "execution_count": 14,
   "id": "5a95fee0-7cfa-42f7-a203-c922a05c81f0",
   "metadata": {},
   "outputs": [],
   "source": [
    "import pandas as pd\n",
    "import numpy as np\n",
    "import matplotlib.pyplot as plt\n",
    "import seaborn as sns\n",
    "\n",
    "from lifelines import CoxPHFitter, KaplanMeierFitter\n",
    "from sklearn.preprocessing import LabelEncoder\n",
    "from sklearn.model_selection import train_test_split, KFold\n",
    "from sklearn.metrics import mean_squared_error, mean_absolute_error, r2_score\n",
    "from lifelines.utils import concordance_index\n",
    "from metric import score\n",
    "import torch\n",
    "from torch import nn\n",
    "from torch.utils.data import TensorDataset, DataLoader\n",
    "from scipy.stats import rankdata"
   ]
  },
  {
   "cell_type": "code",
   "execution_count": 3,
   "id": "22b66b50-7510-4603-b8f4-88b014f28156",
   "metadata": {},
   "outputs": [],
   "source": [
    "train_path = \"data/train.csv\"\n",
    "test_path = \"data/test.csv\"\n",
    "sample_path = \"data/sample_submission.csv\"\n",
    "data_dict_path = \"data/data_dictionary.csv\"\n",
    "\n",
    "train_df = pd.read_csv(train_path)\n",
    "test_df = pd.read_csv(test_path)\n",
    "data_dict_df = pd.read_csv(data_dict_path)"
   ]
  },
  {
   "cell_type": "code",
   "execution_count": 4,
   "id": "f8f79d2e-29d9-467c-8f86-e031e0abfef5",
   "metadata": {},
   "outputs": [
    {
     "name": "stdout",
     "output_type": "stream",
     "text": [
      "Total features: 57 - ['dri_score', 'psych_disturb', 'cyto_score', 'diabetes', 'hla_match_c_high', 'hla_high_res_8', 'tbi_status', 'arrhythmia', 'hla_low_res_6', 'graft_type', 'vent_hist', 'renal_issue', 'pulm_severe', 'prim_disease_hct', 'hla_high_res_6', 'cmv_status', 'hla_high_res_10', 'hla_match_dqb1_high', 'tce_imm_match', 'hla_nmdp_6', 'hla_match_c_low', 'rituximab', 'hla_match_drb1_low', 'hla_match_dqb1_low', 'prod_type', 'cyto_score_detail', 'conditioning_intensity', 'ethnicity', 'year_hct', 'obesity', 'mrd_hct', 'in_vivo_tcd', 'tce_match', 'hla_match_a_high', 'hepatic_severe', 'donor_age', 'prior_tumor', 'hla_match_b_low', 'peptic_ulcer', 'age_at_hct', 'hla_match_a_low', 'gvhd_proph', 'rheum_issue', 'sex_match', 'hla_match_b_high', 'race_group', 'comorbidity_score', 'karnofsky_score', 'hepatic_mild', 'tce_div_match', 'donor_related', 'melphalan_dose', 'hla_low_res_8', 'cardiac', 'hla_match_drb1_high', 'pulm_moderate', 'hla_low_res_10']\n"
     ]
    }
   ],
   "source": [
    "RMV = [\"ID\", \"efs\", \"efs_time\", \"y\"]\n",
    "FEATURES = [c for c in train_df.columns if not c in RMV]\n",
    "print(f\"Total features: {len(FEATURES)} - {FEATURES}\")"
   ]
  },
  {
   "cell_type": "code",
   "execution_count": 5,
   "id": "7eea79bd-b235-4a8b-860d-82b1575dae4d",
   "metadata": {},
   "outputs": [
    {
     "name": "stdout",
     "output_type": "stream",
     "text": [
      "Categorical features: 35 - ['dri_score', 'psych_disturb', 'cyto_score', 'diabetes', 'tbi_status', 'arrhythmia', 'graft_type', 'vent_hist', 'renal_issue', 'pulm_severe', 'prim_disease_hct', 'cmv_status', 'tce_imm_match', 'rituximab', 'prod_type', 'cyto_score_detail', 'conditioning_intensity', 'ethnicity', 'obesity', 'mrd_hct', 'in_vivo_tcd', 'tce_match', 'hepatic_severe', 'prior_tumor', 'peptic_ulcer', 'gvhd_proph', 'rheum_issue', 'sex_match', 'race_group', 'hepatic_mild', 'tce_div_match', 'donor_related', 'melphalan_dose', 'cardiac', 'pulm_moderate']\n"
     ]
    }
   ],
   "source": [
    "CAT_FEATURES = []\n",
    "for f in FEATURES:\n",
    "    if train_df[f].dtype == \"object\":\n",
    "        CAT_FEATURES.append(f)\n",
    "        train_df[f] = train_df[f].fillna(\"NAN\")\n",
    "        test_df[f] = test_df[f].fillna(\"NAN\")\n",
    "\n",
    "print(f\"Categorical features: {len(CAT_FEATURES)} - {CAT_FEATURES}\")"
   ]
  },
  {
   "cell_type": "code",
   "execution_count": 6,
   "id": "adde5779-0d08-46cc-b342-76a1cb6a24e6",
   "metadata": {},
   "outputs": [
    {
     "name": "stdout",
     "output_type": "stream",
     "text": [
      "We LABEL ENCODE the CATEGORICAL FEATURES: \n",
      "dri_score has (12) unique values\n",
      "psych_disturb has (4) unique values\n",
      "cyto_score has (8) unique values\n",
      "diabetes has (4) unique values\n",
      "tbi_status has (8) unique values\n",
      "arrhythmia has (4) unique values\n",
      "graft_type has (2) unique values\n",
      "vent_hist has (3) unique values\n",
      "renal_issue has (4) unique values\n",
      "pulm_severe has (4) unique values\n",
      "prim_disease_hct has (18) unique values\n",
      "cmv_status has (5) unique values\n",
      "tce_imm_match has (9) unique values\n",
      "rituximab has (3) unique values\n",
      "prod_type has (2) unique values\n",
      "cyto_score_detail has (6) unique values\n",
      "conditioning_intensity has (7) unique values\n",
      "ethnicity has (4) unique values\n",
      "obesity has (4) unique values\n",
      "mrd_hct has (3) unique values\n",
      "in_vivo_tcd has (3) unique values\n",
      "tce_match has (5) unique values\n",
      "hepatic_severe has (4) unique values\n",
      "prior_tumor has (4) unique values\n",
      "peptic_ulcer has (4) unique values\n",
      "gvhd_proph has (18) unique values\n",
      "rheum_issue has (4) unique values\n",
      "sex_match has (5) unique values\n",
      "race_group has (6) unique values\n",
      "hepatic_mild has (4) unique values\n",
      "tce_div_match has (5) unique values\n",
      "donor_related has (4) unique values\n",
      "melphalan_dose has (3) unique values\n",
      "cardiac has (4) unique values\n",
      "pulm_moderate has (4) unique values\n"
     ]
    }
   ],
   "source": [
    "CAT_SIZE = []\n",
    "CAT_EMB = []\n",
    "NUMS = []\n",
    "\n",
    "combined = pd.concat([train_df,test_df],axis=0,ignore_index=True)\n",
    "#print(\"Combined data shape:\", combined.shape )\n",
    "\n",
    "print(\"We LABEL ENCODE the CATEGORICAL FEATURES: \")\n",
    "\n",
    "for c in FEATURES:\n",
    "    if c in CAT_FEATURES:\n",
    "        # LABEL ENCODE\n",
    "        combined[c],_ = combined[c].factorize()\n",
    "        combined[c] -= combined[c].min()\n",
    "        combined[c] = combined[c].astype(\"int32\")\n",
    "        #combined[c] = combined[c].astype(\"category\")\n",
    "\n",
    "        n = combined[c].nunique()\n",
    "        mn = combined[c].min()\n",
    "        mx = combined[c].max()\n",
    "        print(f'{c} has ({n}) unique values')\n",
    "\n",
    "        CAT_SIZE.append(mx+1) \n",
    "        CAT_EMB.append( int(np.ceil( np.sqrt(mx+1))) ) \n",
    "    else:\n",
    "        if combined[c].dtype==\"float64\":\n",
    "            combined[c] = combined[c].astype(\"float32\")\n",
    "        if combined[c].dtype==\"int64\":\n",
    "            combined[c] = combined[c].astype(\"int32\")\n",
    "            \n",
    "        m = combined[c].mean()\n",
    "        s = combined[c].std()\n",
    "        combined[c] = (combined[c]-m)/s\n",
    "        combined[c] = combined[c].fillna(0)\n",
    "        \n",
    "        NUMS.append(c)\n",
    "        \n",
    "train = combined.iloc[:len(train_df)].copy()\n",
    "test = combined.iloc[len(train_df):].reset_index(drop=True).copy()"
   ]
  },
  {
   "cell_type": "code",
   "execution_count": 10,
   "id": "602819ae-52b7-477c-8bee-ba378f609839",
   "metadata": {},
   "outputs": [],
   "source": [
    "train[\"y\"] = transform_survival_probability(train, time_col='efs_time', event_col='efs')"
   ]
  },
  {
   "cell_type": "code",
   "execution_count": 7,
   "id": "a113bf70-09e5-4df1-a51e-803d942cad77",
   "metadata": {},
   "outputs": [
    {
     "data": {
      "image/png": "[encoded data removed]",
      "text/plain": [
       "<Figure size 640x480 with 1 Axes>"
      ]
     },
     "metadata": {},
     "output_type": "display_data"
    }
   ],
   "source": [
    "train[\"y\"] = train.efs_time.values\n",
    "mx = train.loc[train.efs==1,\"efs_time\"].max()\n",
    "mn = train.loc[train.efs==0,\"efs_time\"].min()\n",
    "train.loc[train.efs==0,\"y\"] = train.loc[train.efs==0,\"y\"] + mx - mn\n",
    "train.y = train.y.rank()\n",
    "train.loc[train.efs==0,\"y\"] += 2*len(train)\n",
    "train.y = train.y / train.y.max()\n",
    "train.y = np.log( train.y )\n",
    "train.y -= train.y.mean()\n",
    "train.y *= -1.0\n",
    "\n",
    "plt.hist(train.loc[train.efs==1,\"y\"],bins=100,label=\"efs=1, Yes Event\")\n",
    "plt.hist(train.loc[train.efs==0,\"y\"],bins=100,label=\"efs=0, Maybe Event\")\n",
    "plt.xlim((-5,5))\n",
    "plt.xlabel(\"Transformed Target y\")\n",
    "plt.ylabel(\"Density\")\n",
    "plt.title(\"Transformed Target y using both efs and efs_time.\")\n",
    "plt.legend()\n",
    "plt.show()"
   ]
  },
  {
   "cell_type": "code",
   "execution_count": 8,
   "id": "c6ced28d-89e8-4ab4-a49b-42f6b98bce99",
   "metadata": {},
   "outputs": [],
   "source": [
    "from pytorch_tabnet.tab_model import TabNetRegressor"
   ]
  },
  {
   "cell_type": "code",
   "execution_count": 12,
   "id": "0f214bf1-74ed-435a-87fb-f9518f7635d1",
   "metadata": {},
   "outputs": [
    {
     "name": "stderr",
     "output_type": "stream",
     "text": [
      "C:\\Users\\tkvkh\\AppData\\Local\\Programs\\Python\\Python311\\Lib\\site-packages\\pytorch_tabnet\\abstract_model.py:82: UserWarning: Device used : cuda\n",
      "  warnings.warn(f\"Device used : {self.device}\")\n"
     ]
    },
    {
     "name": "stdout",
     "output_type": "stream",
     "text": [
      "epoch 0  | loss: 2.21265 | val_0_rmse: 1.45787 |  0:00:05s\n",
      "epoch 1  | loss: 2.11491 | val_0_rmse: 1.44195 |  0:00:09s\n",
      "epoch 2  | loss: 2.08999 | val_0_rmse: 1.44651 |  0:00:13s\n",
      "epoch 3  | loss: 2.08605 | val_0_rmse: 1.44083 |  0:00:19s\n",
      "epoch 4  | loss: 2.06313 | val_0_rmse: 1.45227 |  0:00:24s\n",
      "epoch 5  | loss: 2.06358 | val_0_rmse: 1.44207 |  0:00:28s\n",
      "epoch 6  | loss: 2.05502 | val_0_rmse: 1.4339  |  0:00:33s\n",
      "epoch 7  | loss: 2.04661 | val_0_rmse: 1.43467 |  0:00:37s\n",
      "epoch 8  | loss: 2.03669 | val_0_rmse: 1.42912 |  0:00:41s\n",
      "epoch 9  | loss: 2.0444  | val_0_rmse: 1.42588 |  0:00:45s\n",
      "epoch 10 | loss: 2.02844 | val_0_rmse: 1.42608 |  0:00:50s\n",
      "epoch 11 | loss: 2.01785 | val_0_rmse: 1.42515 |  0:00:54s\n",
      "epoch 12 | loss: 2.01011 | val_0_rmse: 1.42546 |  0:00:58s\n",
      "epoch 13 | loss: 2.0052  | val_0_rmse: 1.4165  |  0:01:03s\n",
      "epoch 14 | loss: 2.00084 | val_0_rmse: 1.4247  |  0:01:07s\n",
      "epoch 15 | loss: 2.01086 | val_0_rmse: 1.42456 |  0:01:12s\n",
      "epoch 16 | loss: 2.01178 | val_0_rmse: 1.41665 |  0:01:16s\n",
      "epoch 17 | loss: 2.01051 | val_0_rmse: 1.43067 |  0:01:20s\n",
      "epoch 18 | loss: 2.00645 | val_0_rmse: 1.41318 |  0:01:24s\n",
      "epoch 19 | loss: 1.99496 | val_0_rmse: 1.41548 |  0:01:28s\n",
      "epoch 20 | loss: 2.00131 | val_0_rmse: 1.42261 |  0:01:33s\n",
      "epoch 21 | loss: 1.98671 | val_0_rmse: 1.42092 |  0:01:37s\n",
      "epoch 22 | loss: 1.9825  | val_0_rmse: 1.41852 |  0:01:42s\n",
      "epoch 23 | loss: 1.96967 | val_0_rmse: 1.4164  |  0:01:46s\n",
      "epoch 24 | loss: 1.96698 | val_0_rmse: 1.42078 |  0:01:51s\n",
      "epoch 25 | loss: 1.97631 | val_0_rmse: 1.42075 |  0:01:55s\n",
      "epoch 26 | loss: 1.97259 | val_0_rmse: 1.42709 |  0:01:59s\n",
      "epoch 27 | loss: 1.96774 | val_0_rmse: 1.41755 |  0:02:03s\n",
      "epoch 28 | loss: 1.95406 | val_0_rmse: 1.40902 |  0:02:07s\n",
      "epoch 29 | loss: 1.94806 | val_0_rmse: 1.41064 |  0:02:12s\n",
      "epoch 30 | loss: 1.95656 | val_0_rmse: 1.40902 |  0:02:16s\n",
      "epoch 31 | loss: 1.93757 | val_0_rmse: 1.41082 |  0:02:20s\n",
      "epoch 32 | loss: 1.93746 | val_0_rmse: 1.42266 |  0:02:24s\n",
      "epoch 33 | loss: 1.92651 | val_0_rmse: 1.41037 |  0:02:28s\n",
      "epoch 34 | loss: 1.93127 | val_0_rmse: 1.4091  |  0:02:32s\n",
      "epoch 35 | loss: 1.92077 | val_0_rmse: 1.41136 |  0:02:36s\n",
      "epoch 36 | loss: 1.91595 | val_0_rmse: 1.41222 |  0:02:40s\n",
      "epoch 37 | loss: 1.90938 | val_0_rmse: 1.41392 |  0:02:45s\n",
      "epoch 38 | loss: 1.90127 | val_0_rmse: 1.41376 |  0:02:49s\n",
      "epoch 39 | loss: 1.90416 | val_0_rmse: 1.41153 |  0:02:53s\n",
      "epoch 40 | loss: 1.89706 | val_0_rmse: 1.41347 |  0:02:57s\n",
      "epoch 41 | loss: 1.89317 | val_0_rmse: 1.4213  |  0:03:02s\n",
      "epoch 42 | loss: 1.89869 | val_0_rmse: 1.42271 |  0:03:06s\n",
      "epoch 43 | loss: 1.89602 | val_0_rmse: 1.41961 |  0:03:10s\n",
      "epoch 44 | loss: 1.88302 | val_0_rmse: 1.4106  |  0:03:14s\n",
      "epoch 45 | loss: 1.87721 | val_0_rmse: 1.41992 |  0:03:19s\n",
      "epoch 46 | loss: 1.85886 | val_0_rmse: 1.42732 |  0:03:23s\n",
      "epoch 47 | loss: 1.87569 | val_0_rmse: 1.41476 |  0:03:27s\n",
      "epoch 48 | loss: 1.87133 | val_0_rmse: 1.44142 |  0:03:31s\n",
      "\n",
      "Early stopping occurred at epoch 48 with best_epoch = 28 and best_val_0_rmse = 1.40902\n"
     ]
    },
    {
     "name": "stderr",
     "output_type": "stream",
     "text": [
      "C:\\Users\\tkvkh\\AppData\\Local\\Programs\\Python\\Python311\\Lib\\site-packages\\pytorch_tabnet\\callbacks.py:172: UserWarning: Best weights from best epoch are automatically used!\n",
      "  warnings.warn(wrn_msg)\n"
     ]
    }
   ],
   "source": [
    "X = train.drop(columns=RMV).copy().values\n",
    "y = train[[\"y\"]].copy().values\n",
    "\n",
    "X_train, X_valid, y_train, y_valid = train_test_split(X, y, test_size=0.2, random_state=42)\n",
    "\n",
    "model = TabNetRegressor()\n",
    "\n",
    "# Train the Model\n",
    "model.fit(\n",
    "    X_train, y_train,\n",
    "    eval_set=[(X_valid, y_valid)],\n",
    "    eval_metric=['rmse'],\n",
    "    max_epochs=200,\n",
    "    patience=20,\n",
    "    batch_size=256,\n",
    "    virtual_batch_size=128\n",
    ")"
   ]
  },
  {
   "cell_type": "code",
   "execution_count": 16,
   "id": "6d7b3d52-2a06-4844-a52b-ff81db6d35d4",
   "metadata": {},
   "outputs": [
    {
     "ename": "KeyError",
     "evalue": "0",
     "output_type": "error",
     "traceback": [
      "\u001b[1;31m---------------------------------------------------------------------------\u001b[0m",
      "\u001b[1;31mKeyError\u001b[0m                                  Traceback (most recent call last)",
      "File \u001b[1;32m~\\AppData\\Local\\Programs\\Python\\Python311\\Lib\\site-packages\\pandas\\core\\indexes\\base.py:3791\u001b[0m, in \u001b[0;36mIndex.get_loc\u001b[1;34m(self, key)\u001b[0m\n\u001b[0;32m   3790\u001b[0m \u001b[38;5;28;01mtry\u001b[39;00m:\n\u001b[1;32m-> 3791\u001b[0m     \u001b[38;5;28;01mreturn\u001b[39;00m \u001b[38;5;28;43mself\u001b[39;49m\u001b[38;5;241;43m.\u001b[39;49m\u001b[43m_engine\u001b[49m\u001b[38;5;241;43m.\u001b[39;49m\u001b[43mget_loc\u001b[49m\u001b[43m(\u001b[49m\u001b[43mcasted_key\u001b[49m\u001b[43m)\u001b[49m\n\u001b[0;32m   3792\u001b[0m \u001b[38;5;28;01mexcept\u001b[39;00m \u001b[38;5;167;01mKeyError\u001b[39;00m \u001b[38;5;28;01mas\u001b[39;00m err:\n",
      "File \u001b[1;32mindex.pyx:152\u001b[0m, in \u001b[0;36mpandas._libs.index.IndexEngine.get_loc\u001b[1;34m()\u001b[0m\n",
      "File \u001b[1;32mindex.pyx:181\u001b[0m, in \u001b[0;36mpandas._libs.index.IndexEngine.get_loc\u001b[1;34m()\u001b[0m\n",
      "File \u001b[1;32mpandas\\_libs\\hashtable_class_helper.pxi:7080\u001b[0m, in \u001b[0;36mpandas._libs.hashtable.PyObjectHashTable.get_item\u001b[1;34m()\u001b[0m\n",
      "File \u001b[1;32mpandas\\_libs\\hashtable_class_helper.pxi:7088\u001b[0m, in \u001b[0;36mpandas._libs.hashtable.PyObjectHashTable.get_item\u001b[1;34m()\u001b[0m\n",
      "\u001b[1;31mKeyError\u001b[0m: 0",
      "\nThe above exception was the direct cause of the following exception:\n",
      "\u001b[1;31mKeyError\u001b[0m                                  Traceback (most recent call last)",
      "Cell \u001b[1;32mIn[16], line 1\u001b[0m\n\u001b[1;32m----> 1\u001b[0m prediction \u001b[38;5;241m=\u001b[39m \u001b[43mmodel\u001b[49m\u001b[38;5;241;43m.\u001b[39;49m\u001b[43mpredict\u001b[49m\u001b[43m(\u001b[49m\u001b[43mX_valid\u001b[49m\u001b[43m)\u001b[49m\n\u001b[0;32m      2\u001b[0m X \u001b[38;5;241m=\u001b[39m train\u001b[38;5;241m.\u001b[39mcopy()\n\u001b[0;32m      3\u001b[0m y \u001b[38;5;241m=\u001b[39m train[[\u001b[38;5;124m\"\u001b[39m\u001b[38;5;124my\u001b[39m\u001b[38;5;124m\"\u001b[39m]]\u001b[38;5;241m.\u001b[39mcopy()\n",
      "File \u001b[1;32m~\\AppData\\Local\\Programs\\Python\\Python311\\Lib\\site-packages\\pytorch_tabnet\\abstract_model.py:310\u001b[0m, in \u001b[0;36mTabModel.predict\u001b[1;34m(self, X)\u001b[0m\n\u001b[0;32m    303\u001b[0m     dataloader \u001b[38;5;241m=\u001b[39m DataLoader(\n\u001b[0;32m    304\u001b[0m         PredictDataset(X),\n\u001b[0;32m    305\u001b[0m         batch_size\u001b[38;5;241m=\u001b[39m\u001b[38;5;28mself\u001b[39m\u001b[38;5;241m.\u001b[39mbatch_size,\n\u001b[0;32m    306\u001b[0m         shuffle\u001b[38;5;241m=\u001b[39m\u001b[38;5;28;01mFalse\u001b[39;00m,\n\u001b[0;32m    307\u001b[0m     )\n\u001b[0;32m    309\u001b[0m results \u001b[38;5;241m=\u001b[39m []\n\u001b[1;32m--> 310\u001b[0m \u001b[43m\u001b[49m\u001b[38;5;28;43;01mfor\u001b[39;49;00m\u001b[43m \u001b[49m\u001b[43mbatch_nb\u001b[49m\u001b[43m,\u001b[49m\u001b[43m \u001b[49m\u001b[43mdata\u001b[49m\u001b[43m \u001b[49m\u001b[38;5;129;43;01min\u001b[39;49;00m\u001b[43m \u001b[49m\u001b[38;5;28;43menumerate\u001b[39;49m\u001b[43m(\u001b[49m\u001b[43mdataloader\u001b[49m\u001b[43m)\u001b[49m\u001b[43m:\u001b[49m\n\u001b[0;32m    311\u001b[0m \u001b[43m    \u001b[49m\u001b[43mdata\u001b[49m\u001b[43m \u001b[49m\u001b[38;5;241;43m=\u001b[39;49m\u001b[43m \u001b[49m\u001b[43mdata\u001b[49m\u001b[38;5;241;43m.\u001b[39;49m\u001b[43mto\u001b[49m\u001b[43m(\u001b[49m\u001b[38;5;28;43mself\u001b[39;49m\u001b[38;5;241;43m.\u001b[39;49m\u001b[43mdevice\u001b[49m\u001b[43m)\u001b[49m\u001b[38;5;241;43m.\u001b[39;49m\u001b[43mfloat\u001b[49m\u001b[43m(\u001b[49m\u001b[43m)\u001b[49m\n\u001b[0;32m    312\u001b[0m \u001b[43m    \u001b[49m\u001b[43moutput\u001b[49m\u001b[43m,\u001b[49m\u001b[43m \u001b[49m\u001b[43mM_loss\u001b[49m\u001b[43m \u001b[49m\u001b[38;5;241;43m=\u001b[39;49m\u001b[43m \u001b[49m\u001b[38;5;28;43mself\u001b[39;49m\u001b[38;5;241;43m.\u001b[39;49m\u001b[43mnetwork\u001b[49m\u001b[43m(\u001b[49m\u001b[43mdata\u001b[49m\u001b[43m)\u001b[49m\n",
      "File \u001b[1;32m~\\AppData\\Local\\Programs\\Python\\Python311\\Lib\\site-packages\\torch\\utils\\data\\dataloader.py:631\u001b[0m, in \u001b[0;36m_BaseDataLoaderIter.__next__\u001b[1;34m(self)\u001b[0m\n\u001b[0;32m    628\u001b[0m \u001b[38;5;28;01mif\u001b[39;00m \u001b[38;5;28mself\u001b[39m\u001b[38;5;241m.\u001b[39m_sampler_iter \u001b[38;5;129;01mis\u001b[39;00m \u001b[38;5;28;01mNone\u001b[39;00m:\n\u001b[0;32m    629\u001b[0m     \u001b[38;5;66;03m# TODO(https://github.com/pytorch/pytorch/issues/76750)\u001b[39;00m\n\u001b[0;32m    630\u001b[0m     \u001b[38;5;28mself\u001b[39m\u001b[38;5;241m.\u001b[39m_reset()  \u001b[38;5;66;03m# type: ignore[call-arg]\u001b[39;00m\n\u001b[1;32m--> 631\u001b[0m data \u001b[38;5;241m=\u001b[39m \u001b[38;5;28;43mself\u001b[39;49m\u001b[38;5;241;43m.\u001b[39;49m\u001b[43m_next_data\u001b[49m\u001b[43m(\u001b[49m\u001b[43m)\u001b[49m\n\u001b[0;32m    632\u001b[0m \u001b[38;5;28mself\u001b[39m\u001b[38;5;241m.\u001b[39m_num_yielded \u001b[38;5;241m+\u001b[39m\u001b[38;5;241m=\u001b[39m \u001b[38;5;241m1\u001b[39m\n\u001b[0;32m    633\u001b[0m \u001b[38;5;28;01mif\u001b[39;00m \u001b[38;5;28mself\u001b[39m\u001b[38;5;241m.\u001b[39m_dataset_kind \u001b[38;5;241m==\u001b[39m _DatasetKind\u001b[38;5;241m.\u001b[39mIterable \u001b[38;5;129;01mand\u001b[39;00m \\\n\u001b[0;32m    634\u001b[0m         \u001b[38;5;28mself\u001b[39m\u001b[38;5;241m.\u001b[39m_IterableDataset_len_called \u001b[38;5;129;01mis\u001b[39;00m \u001b[38;5;129;01mnot\u001b[39;00m \u001b[38;5;28;01mNone\u001b[39;00m \u001b[38;5;129;01mand\u001b[39;00m \\\n\u001b[0;32m    635\u001b[0m         \u001b[38;5;28mself\u001b[39m\u001b[38;5;241m.\u001b[39m_num_yielded \u001b[38;5;241m>\u001b[39m \u001b[38;5;28mself\u001b[39m\u001b[38;5;241m.\u001b[39m_IterableDataset_len_called:\n",
      "File \u001b[1;32m~\\AppData\\Local\\Programs\\Python\\Python311\\Lib\\site-packages\\torch\\utils\\data\\dataloader.py:675\u001b[0m, in \u001b[0;36m_SingleProcessDataLoaderIter._next_data\u001b[1;34m(self)\u001b[0m\n\u001b[0;32m    673\u001b[0m \u001b[38;5;28;01mdef\u001b[39;00m \u001b[38;5;21m_next_data\u001b[39m(\u001b[38;5;28mself\u001b[39m):\n\u001b[0;32m    674\u001b[0m     index \u001b[38;5;241m=\u001b[39m \u001b[38;5;28mself\u001b[39m\u001b[38;5;241m.\u001b[39m_next_index()  \u001b[38;5;66;03m# may raise StopIteration\u001b[39;00m\n\u001b[1;32m--> 675\u001b[0m     data \u001b[38;5;241m=\u001b[39m \u001b[38;5;28;43mself\u001b[39;49m\u001b[38;5;241;43m.\u001b[39;49m\u001b[43m_dataset_fetcher\u001b[49m\u001b[38;5;241;43m.\u001b[39;49m\u001b[43mfetch\u001b[49m\u001b[43m(\u001b[49m\u001b[43mindex\u001b[49m\u001b[43m)\u001b[49m  \u001b[38;5;66;03m# may raise StopIteration\u001b[39;00m\n\u001b[0;32m    676\u001b[0m     \u001b[38;5;28;01mif\u001b[39;00m \u001b[38;5;28mself\u001b[39m\u001b[38;5;241m.\u001b[39m_pin_memory:\n\u001b[0;32m    677\u001b[0m         data \u001b[38;5;241m=\u001b[39m _utils\u001b[38;5;241m.\u001b[39mpin_memory\u001b[38;5;241m.\u001b[39mpin_memory(data, \u001b[38;5;28mself\u001b[39m\u001b[38;5;241m.\u001b[39m_pin_memory_device)\n",
      "File \u001b[1;32m~\\AppData\\Local\\Programs\\Python\\Python311\\Lib\\site-packages\\torch\\utils\\data\\_utils\\fetch.py:51\u001b[0m, in \u001b[0;36m_MapDatasetFetcher.fetch\u001b[1;34m(self, possibly_batched_index)\u001b[0m\n\u001b[0;32m     49\u001b[0m         data \u001b[38;5;241m=\u001b[39m \u001b[38;5;28mself\u001b[39m\u001b[38;5;241m.\u001b[39mdataset\u001b[38;5;241m.\u001b[39m__getitems__(possibly_batched_index)\n\u001b[0;32m     50\u001b[0m     \u001b[38;5;28;01melse\u001b[39;00m:\n\u001b[1;32m---> 51\u001b[0m         data \u001b[38;5;241m=\u001b[39m \u001b[43m[\u001b[49m\u001b[38;5;28;43mself\u001b[39;49m\u001b[38;5;241;43m.\u001b[39;49m\u001b[43mdataset\u001b[49m\u001b[43m[\u001b[49m\u001b[43midx\u001b[49m\u001b[43m]\u001b[49m\u001b[43m \u001b[49m\u001b[38;5;28;43;01mfor\u001b[39;49;00m\u001b[43m \u001b[49m\u001b[43midx\u001b[49m\u001b[43m \u001b[49m\u001b[38;5;129;43;01min\u001b[39;49;00m\u001b[43m \u001b[49m\u001b[43mpossibly_batched_index\u001b[49m\u001b[43m]\u001b[49m\n\u001b[0;32m     52\u001b[0m \u001b[38;5;28;01melse\u001b[39;00m:\n\u001b[0;32m     53\u001b[0m     data \u001b[38;5;241m=\u001b[39m \u001b[38;5;28mself\u001b[39m\u001b[38;5;241m.\u001b[39mdataset[possibly_batched_index]\n",
      "File \u001b[1;32m~\\AppData\\Local\\Programs\\Python\\Python311\\Lib\\site-packages\\torch\\utils\\data\\_utils\\fetch.py:51\u001b[0m, in \u001b[0;36m<listcomp>\u001b[1;34m(.0)\u001b[0m\n\u001b[0;32m     49\u001b[0m         data \u001b[38;5;241m=\u001b[39m \u001b[38;5;28mself\u001b[39m\u001b[38;5;241m.\u001b[39mdataset\u001b[38;5;241m.\u001b[39m__getitems__(possibly_batched_index)\n\u001b[0;32m     50\u001b[0m     \u001b[38;5;28;01melse\u001b[39;00m:\n\u001b[1;32m---> 51\u001b[0m         data \u001b[38;5;241m=\u001b[39m [\u001b[38;5;28;43mself\u001b[39;49m\u001b[38;5;241;43m.\u001b[39;49m\u001b[43mdataset\u001b[49m\u001b[43m[\u001b[49m\u001b[43midx\u001b[49m\u001b[43m]\u001b[49m \u001b[38;5;28;01mfor\u001b[39;00m idx \u001b[38;5;129;01min\u001b[39;00m possibly_batched_index]\n\u001b[0;32m     52\u001b[0m \u001b[38;5;28;01melse\u001b[39;00m:\n\u001b[0;32m     53\u001b[0m     data \u001b[38;5;241m=\u001b[39m \u001b[38;5;28mself\u001b[39m\u001b[38;5;241m.\u001b[39mdataset[possibly_batched_index]\n",
      "File \u001b[1;32m~\\AppData\\Local\\Programs\\Python\\Python311\\Lib\\site-packages\\pytorch_tabnet\\utils.py:78\u001b[0m, in \u001b[0;36mPredictDataset.__getitem__\u001b[1;34m(self, index)\u001b[0m\n\u001b[0;32m     77\u001b[0m \u001b[38;5;28;01mdef\u001b[39;00m \u001b[38;5;21m__getitem__\u001b[39m(\u001b[38;5;28mself\u001b[39m, index):\n\u001b[1;32m---> 78\u001b[0m     x \u001b[38;5;241m=\u001b[39m \u001b[38;5;28;43mself\u001b[39;49m\u001b[38;5;241;43m.\u001b[39;49m\u001b[43mx\u001b[49m\u001b[43m[\u001b[49m\u001b[43mindex\u001b[49m\u001b[43m]\u001b[49m\n\u001b[0;32m     79\u001b[0m     \u001b[38;5;28;01mreturn\u001b[39;00m x\n",
      "File \u001b[1;32m~\\AppData\\Local\\Programs\\Python\\Python311\\Lib\\site-packages\\pandas\\core\\frame.py:3893\u001b[0m, in \u001b[0;36mDataFrame.__getitem__\u001b[1;34m(self, key)\u001b[0m\n\u001b[0;32m   3891\u001b[0m \u001b[38;5;28;01mif\u001b[39;00m \u001b[38;5;28mself\u001b[39m\u001b[38;5;241m.\u001b[39mcolumns\u001b[38;5;241m.\u001b[39mnlevels \u001b[38;5;241m>\u001b[39m \u001b[38;5;241m1\u001b[39m:\n\u001b[0;32m   3892\u001b[0m     \u001b[38;5;28;01mreturn\u001b[39;00m \u001b[38;5;28mself\u001b[39m\u001b[38;5;241m.\u001b[39m_getitem_multilevel(key)\n\u001b[1;32m-> 3893\u001b[0m indexer \u001b[38;5;241m=\u001b[39m \u001b[38;5;28;43mself\u001b[39;49m\u001b[38;5;241;43m.\u001b[39;49m\u001b[43mcolumns\u001b[49m\u001b[38;5;241;43m.\u001b[39;49m\u001b[43mget_loc\u001b[49m\u001b[43m(\u001b[49m\u001b[43mkey\u001b[49m\u001b[43m)\u001b[49m\n\u001b[0;32m   3894\u001b[0m \u001b[38;5;28;01mif\u001b[39;00m is_integer(indexer):\n\u001b[0;32m   3895\u001b[0m     indexer \u001b[38;5;241m=\u001b[39m [indexer]\n",
      "File \u001b[1;32m~\\AppData\\Local\\Programs\\Python\\Python311\\Lib\\site-packages\\pandas\\core\\indexes\\base.py:3798\u001b[0m, in \u001b[0;36mIndex.get_loc\u001b[1;34m(self, key)\u001b[0m\n\u001b[0;32m   3793\u001b[0m     \u001b[38;5;28;01mif\u001b[39;00m \u001b[38;5;28misinstance\u001b[39m(casted_key, \u001b[38;5;28mslice\u001b[39m) \u001b[38;5;129;01mor\u001b[39;00m (\n\u001b[0;32m   3794\u001b[0m         \u001b[38;5;28misinstance\u001b[39m(casted_key, abc\u001b[38;5;241m.\u001b[39mIterable)\n\u001b[0;32m   3795\u001b[0m         \u001b[38;5;129;01mand\u001b[39;00m \u001b[38;5;28many\u001b[39m(\u001b[38;5;28misinstance\u001b[39m(x, \u001b[38;5;28mslice\u001b[39m) \u001b[38;5;28;01mfor\u001b[39;00m x \u001b[38;5;129;01min\u001b[39;00m casted_key)\n\u001b[0;32m   3796\u001b[0m     ):\n\u001b[0;32m   3797\u001b[0m         \u001b[38;5;28;01mraise\u001b[39;00m InvalidIndexError(key)\n\u001b[1;32m-> 3798\u001b[0m     \u001b[38;5;28;01mraise\u001b[39;00m \u001b[38;5;167;01mKeyError\u001b[39;00m(key) \u001b[38;5;28;01mfrom\u001b[39;00m \u001b[38;5;21;01merr\u001b[39;00m\n\u001b[0;32m   3799\u001b[0m \u001b[38;5;28;01mexcept\u001b[39;00m \u001b[38;5;167;01mTypeError\u001b[39;00m:\n\u001b[0;32m   3800\u001b[0m     \u001b[38;5;66;03m# If we have a listlike key, _check_indexing_error will raise\u001b[39;00m\n\u001b[0;32m   3801\u001b[0m     \u001b[38;5;66;03m#  InvalidIndexError. Otherwise we fall through and re-raise\u001b[39;00m\n\u001b[0;32m   3802\u001b[0m     \u001b[38;5;66;03m#  the TypeError.\u001b[39;00m\n\u001b[0;32m   3803\u001b[0m     \u001b[38;5;28mself\u001b[39m\u001b[38;5;241m.\u001b[39m_check_indexing_error(key)\n",
      "\u001b[1;31mKeyError\u001b[0m: 0"
     ]
    }
   ],
   "source": [
    "prediction = model.predict(X_valid)\n",
    "X = train.copy()\n",
    "y = train[[\"y\"]].copy()\n",
    "\n",
    "X_train, X_valid, y_train, y_valid = train_test_split(X, y, test_size=0.2, random_state=42)\n",
    "\n",
    "y_true = X_valid[[\"ID\",\"efs\",\"efs_time\",\"race_group\"]].copy()\n",
    "y_pred = X_valid[[\"ID\"]].copy()\n",
    "y_pred[\"prediction\"] = prediction\n",
    "m = score(y_true.copy(), y_pred.copy(), \"ID\")\n",
    "print(f\"Overall CV for NN =\",m)"
   ]
  },
  {
   "cell_type": "code",
   "execution_count": null,
   "id": "46819866-12d1-42f1-9ac8-8e45aff42913",
   "metadata": {},
   "outputs": [],
   "source": []
  }
 ],
 "metadata": {
  "kernelspec": {
   "display_name": "Python 3 (ipykernel)",
   "language": "python",
   "name": "python3"
  },
  "language_info": {
   "codemirror_mode": {
    "name": "ipython",
    "version": 3
   },
   "file_extension": ".py",
   "mimetype": "text/x-python",
   "name": "python",
   "nbconvert_exporter": "python",
   "pygments_lexer": "ipython3",
   "version": "3.11.7"
  }
 },
 "nbformat": 4,
 "nbformat_minor": 5
}
