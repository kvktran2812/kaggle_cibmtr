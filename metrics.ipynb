{
 "cells": [
  {
   "cell_type": "code",
   "execution_count": 1,
   "id": "ab993bcb-17dc-4134-a9b1-007a2aba7ea8",
   "metadata": {},
   "outputs": [],
   "source": [
    "from lifelines.utils import concordance_index\n",
    "import pandas as pd\n",
    "import numpy as np\n",
    "import matplotlib.pyplot as plt\n",
    "from scipy.stats import rankdata"
   ]
  },
  {
   "cell_type": "code",
   "execution_count": 10,
   "id": "17d7cab2-5178-4d4b-a558-edadd720a2b1",
   "metadata": {},
   "outputs": [],
   "source": [
    "train_df = pd.read_csv(\"data/train.csv\")"
   ]
  },
  {
   "cell_type": "code",
   "execution_count": 11,
   "id": "0c59f960-685c-47e0-ac14-7df15961f861",
   "metadata": {},
   "outputs": [],
   "source": [
    "data = train_df[[\"efs\", \"efs_time\"]].copy()\n",
    "efs = train_df[[\"efs\"]].copy().to_numpy()\n",
    "efs_time = train_df[[\"efs_time\"]].copy().to_numpy()\n",
    "data = data.to_numpy()\n",
    "rank = rankdata(data)"
   ]
  },
  {
   "cell_type": "code",
   "execution_count": null,
   "id": "fc57ad8e-1e55-450c-8c12-1568051a5943",
   "metadata": {},
   "outputs": [],
   "source": []
  }
 ],
 "metadata": {
  "kernelspec": {
   "display_name": "Python 3 (ipykernel)",
   "language": "python",
   "name": "python3"
  },
  "language_info": {
   "codemirror_mode": {
    "name": "ipython",
    "version": 3
   },
   "file_extension": ".py",
   "mimetype": "text/x-python",
   "name": "python",
   "nbconvert_exporter": "python",
   "pygments_lexer": "ipython3",
   "version": "3.11.7"
  }
 },
 "nbformat": 4,
 "nbformat_minor": 5
}
