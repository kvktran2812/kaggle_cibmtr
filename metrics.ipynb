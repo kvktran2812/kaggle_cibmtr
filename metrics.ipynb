{
 "cells": [
  {
   "cell_type": "code",
   "execution_count": 3,
   "id": "ab993bcb-17dc-4134-a9b1-007a2aba7ea8",
   "metadata": {},
   "outputs": [],
   "source": [
    "from lifelines.utils import concordance_index\n",
    "import pandas as pd\n",
    "import numpy as np\n",
    "import matplotlib.pyplot as plt"
   ]
  },
  {
   "cell_type": "code",
   "execution_count": 4,
   "id": "17d7cab2-5178-4d4b-a558-edadd720a2b1",
   "metadata": {},
   "outputs": [],
   "source": [
    "train_df = pd.read_csv(\"data/train.csv\")"
   ]
  },
  {
   "cell_type": "code",
   "execution_count": 16,
   "id": "6c605fef-4e5e-4b2f-8ccb-d540cadcb291",
   "metadata": {},
   "outputs": [],
   "source": [
    "alpha = 10\n",
    "risk_score = np.where(train_df.efs == 1, (1 / train_df.efs_time) * alpha, -train_df.efs_time)"
   ]
  },
  {
   "cell_type": "code",
   "execution_count": 18,
   "id": "4568ee32-4cd0-47d4-bf84-bf399d131e78",
   "metadata": {},
   "outputs": [
    {
     "data": {
      "text/plain": [
       "1.0"
      ]
     },
     "execution_count": 18,
     "metadata": {},
     "output_type": "execute_result"
    }
   ],
   "source": [
    "concordance_index(train_df[\"efs\"], risk_score, train_df[\"efs_time\"])"
   ]
  },
  {
   "cell_type": "code",
   "execution_count": null,
   "id": "0c59f960-685c-47e0-ac14-7df15961f861",
   "metadata": {},
   "outputs": [],
   "source": []
  }
 ],
 "metadata": {
  "kernelspec": {
   "display_name": "Python 3 (ipykernel)",
   "language": "python",
   "name": "python3"
  },
  "language_info": {
   "codemirror_mode": {
    "name": "ipython",
    "version": 3
   },
   "file_extension": ".py",
   "mimetype": "text/x-python",
   "name": "python",
   "nbconvert_exporter": "python",
   "pygments_lexer": "ipython3",
   "version": "3.11.7"
  }
 },
 "nbformat": 4,
 "nbformat_minor": 5
}
