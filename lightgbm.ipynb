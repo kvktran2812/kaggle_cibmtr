{
 "cells": [
  {
   "cell_type": "code",
   "execution_count": 1,
   "id": "52324158-b606-4dbc-8386-3648fe0b50a8",
   "metadata": {},
   "outputs": [],
   "source": [
    "import pandas as pd\n",
    "import numpy as np\n",
    "import matplotlib.pyplot as plt\n",
    "import seaborn as sns\n",
    "\n",
    "from lifelines import CoxPHFitter, KaplanMeierFitter\n",
    "from sklearn.preprocessing import LabelEncoder\n",
    "from sklearn.model_selection import train_test_split, KFold\n",
    "from sklearn.metrics import mean_squared_error, mean_absolute_error, r2_score\n",
    "from xgboost import XGBRegressor\n",
    "from lifelines.utils import concordance_index\n",
    "from metric import score"
   ]
  },
  {
   "cell_type": "code",
   "execution_count": 2,
   "id": "b9d68608-0a9f-497f-ac74-18e643fd7538",
   "metadata": {},
   "outputs": [],
   "source": [
    "train_path = \"data/train.csv\"\n",
    "test_path = \"data/test.csv\"\n",
    "sample_path = \"data/sample_submission.csv\"\n",
    "data_dict_path = \"data/data_dictionary.csv\"\n",
    "\n",
    "train = pd.read_csv(train_path)\n",
    "test = pd.read_csv(test_path)\n",
    "data_dict_df = pd.read_csv(data_dict_path)\n",
    "\n",
    "from lifelines import KaplanMeierFitter\n",
    "def transform_survival_probability(df, time_col='efs_time', event_col='efs'):\n",
    "    kmf = KaplanMeierFitter()\n",
    "    kmf.fit(df[time_col], df[event_col])\n",
    "    y = kmf.survival_function_at_times(df[time_col]).values\n",
    "    return y\n",
    "train[\"y\"] = transform_survival_probability(train, time_col='efs_time', event_col='efs')"
   ]
  },
  {
   "cell_type": "code",
   "execution_count": 4,
   "id": "ef3d26bc-46c6-45ac-a063-30ee1501e895",
   "metadata": {},
   "outputs": [],
   "source": [
    "RMV = [\"ID\", \"efs\", \"efs_time\", \"y\"]\n",
    "FEATURES = [c for c in train.columns if not c in RMV]\n",
    "# print(f\"Total features: {len(FEATURES)} - {FEATURES}\")\n",
    "\n",
    "CATS = []\n",
    "NULLS = [\"Not done\", \"Not tested\", \"N/A\", \"N/A, Mel not given\", \"No drugs reported\"]\n",
    "NUMS = []\n",
    "\n",
    "for c in FEATURES:\n",
    "    if train[c].dtype==\"object\":\n",
    "        for null in NULLS:\n",
    "            if null in train[c].unique():\n",
    "                train[c] = train[c].fillna(null)\n",
    "                test[c] = test[c].fillna(null)\n",
    "        train[c] = train[c].fillna(\"NAN\")\n",
    "        test[c] = test[c].fillna(\"NAN\")\n",
    "\n",
    "        CATS.append(c)\n",
    "    else:\n",
    "        NUMS.append(c)\n",
    "        train[c] = train[c].fillna(-1)\n",
    "        test[c] = test[c].fillna(-1)"
   ]
  },
  {
   "cell_type": "code",
   "execution_count": 5,
   "id": "25264da0-28ba-4ced-adbb-472422f041f7",
   "metadata": {},
   "outputs": [
    {
     "name": "stdout",
     "output_type": "stream",
     "text": [
      "##################################################\n",
      "dri_score: ['N/A - non-malignant indication' 'Intermediate' 'High' 'Low'\n",
      " 'N/A - disease not classifiable' 'N/A - pediatric' 'TBD cytogenetics'\n",
      " 'Intermediate - TED AML case <missing cytogenetics' 'NAN'\n",
      " 'High - TED AML case <missing cytogenetics' 'Very high'\n",
      " 'Missing disease status']\n",
      "##################################################\n",
      "vent_hist: ['No' 'Yes' 'NAN']\n",
      "##################################################\n",
      "cmv_status: ['+/+' '-/+' '-/-' 'NAN' '+/-']\n",
      "##################################################\n",
      "tce_imm_match: ['NAN' 'P/P' 'G/B' 'H/B' 'G/G' 'P/H' 'P/B' 'H/H' 'P/G']\n",
      "##################################################\n",
      "rituximab: ['No' 'NAN' 'Yes']\n",
      "##################################################\n",
      "ethnicity: ['Not Hispanic or Latino' 'Hispanic or Latino' 'NAN'\n",
      " 'Non-resident of the U.S.']\n",
      "##################################################\n",
      "mrd_hct: ['NAN' 'Positive' 'Negative']\n",
      "##################################################\n",
      "in_vivo_tcd: ['Yes' 'No' 'NAN']\n",
      "##################################################\n",
      "tce_match: ['NAN' 'Permissive' 'HvG non-permissive' 'Fully matched'\n",
      " 'GvH non-permissive']\n",
      "##################################################\n",
      "gvhd_proph: ['FKalone' 'Other GVHD Prophylaxis' 'Cyclophosphamide alone'\n",
      " 'FK+ MMF +- others' 'TDEPLETION +- other' 'CSA + MMF +- others(not FK)'\n",
      " 'CSA + MTX +- others(not MMF,FK)' 'FK+ MTX +- others(not MMF)'\n",
      " 'Cyclophosphamide +- others' 'CSA alone' 'NAN' 'TDEPLETION alone'\n",
      " 'No GvHD Prophylaxis' 'CDselect alone' 'CDselect +- other'\n",
      " 'Parent Q = yes, but no agent' 'FK+- others(not MMF,MTX)'\n",
      " 'CSA +- others(not FK,MMF,MTX)']\n",
      "##################################################\n",
      "sex_match: ['M-F' 'F-F' 'F-M' 'M-M' 'NAN']\n",
      "##################################################\n",
      "tce_div_match: ['NAN' 'Permissive mismatched' 'GvH non-permissive' 'HvG non-permissive'\n",
      " 'Bi-directional non-permissive']\n",
      "##################################################\n",
      "donor_related: ['Unrelated' 'Related' 'Multiple donor (non-UCB)' 'NAN']\n",
      "13\n"
     ]
    }
   ],
   "source": [
    "count = 0\n",
    "for col in train.columns:\n",
    "    if train[col].dtype == \"object\" and len(train[col].unique()) <= 20:\n",
    "        if \"NAN\" in train[col].unique():\n",
    "            print(\"#\" * 50)\n",
    "            print(f\"{col}: {train[col].unique()}\")\n",
    "            count += 1\n",
    "\n",
    "print(count)"
   ]
  },
  {
   "cell_type": "code",
   "execution_count": 7,
   "id": "0eedd973-3307-4281-b129-6fb4a1a9b459",
   "metadata": {},
   "outputs": [],
   "source": [
    "CAT_SIZE = []\n",
    "CAT_EMB = []\n",
    "NUMS = []\n",
    "\n",
    "combined = pd.concat([train,test],axis=0,ignore_index=True)\n",
    "\n",
    "for c in FEATURES:\n",
    "    if c in CATS:\n",
    "        # LABEL ENCODE\n",
    "        combined[c],_ = combined[c].factorize()\n",
    "        combined[c] -= combined[c].min()\n",
    "        combined[c] = combined[c].astype(\"int32\")\n",
    "        combined[c] = combined[c].astype(\"category\")\n",
    "    else:\n",
    "        if combined[c].dtype==\"float64\":\n",
    "            combined[c] = combined[c].astype(\"float32\")\n",
    "        if combined[c].dtype==\"int64\":\n",
    "            combined[c] = combined[c].astype(\"int32\")\n",
    "            \n",
    "        NUMS.append(c)\n",
    "        \n",
    "train = combined.iloc[:len(train)].copy()\n",
    "test = combined.iloc[len(train):].reset_index(drop=True).copy()"
   ]
  },
  {
   "cell_type": "code",
   "execution_count": 8,
   "id": "3e6f1e7d-2906-40ba-9eda-a9f3b5cc858c",
   "metadata": {},
   "outputs": [
    {
     "name": "stdout",
     "output_type": "stream",
     "text": [
      "Using LightGBM version 4.5.0\n"
     ]
    }
   ],
   "source": [
    "from lightgbm import LGBMRegressor\n",
    "import lightgbm as lgb\n",
    "print(\"Using LightGBM version\",lgb.__version__)"
   ]
  },
  {
   "cell_type": "code",
   "execution_count": 9,
   "id": "69b40d94-d968-49b8-bddf-650bcd3d8d48",
   "metadata": {},
   "outputs": [
    {
     "name": "stdout",
     "output_type": "stream",
     "text": [
      "Fold 1\n",
      "Fold 2\n",
      "Fold 3\n",
      "Fold 4\n",
      "Fold 5\n",
      "Fold 6\n",
      "Fold 7\n",
      "Fold 8\n",
      "Fold 9\n",
      "Fold 10\n"
     ]
    }
   ],
   "source": [
    "FOLDS = 10\n",
    "kf = KFold(n_splits=FOLDS, shuffle=True, random_state=42)\n",
    "    \n",
    "oof_lgb = np.zeros(len(train))\n",
    "pred_lgb = np.zeros(len(test))\n",
    "\n",
    "for i, (train_index, test_index) in enumerate(kf.split(train)):\n",
    "    print(f\"Fold {i+1}\")\n",
    "    \n",
    "    x_train = train.loc[train_index,FEATURES].copy()\n",
    "    y_train = train.loc[train_index,\"y\"]    \n",
    "    x_valid = train.loc[test_index,FEATURES].copy()\n",
    "    y_valid = train.loc[test_index,\"y\"]\n",
    "    x_test = test[FEATURES].copy()\n",
    "\n",
    "    model_lgb = LGBMRegressor(\n",
    "        device=\"gpu\", \n",
    "        max_depth=3, \n",
    "        colsample_bytree=0.4,  \n",
    "        subsample=0.9, \n",
    "        n_estimators=2500, \n",
    "        learning_rate=0.02, \n",
    "        objective=\"regression\", \n",
    "        verbose=-1, \n",
    "        early_stopping_rounds=25,\n",
    "    )\n",
    "    model_lgb.fit(\n",
    "        x_train, y_train,\n",
    "        eval_set=[(x_valid, y_valid)],\n",
    "    )\n",
    "    \n",
    "    # INFER OOF\n",
    "    oof_lgb[test_index] = model_lgb.predict(x_valid)\n",
    "    # INFER TEST\n",
    "    pred_lgb += model_lgb.predict(x_test)\n",
    "\n",
    "# COMPUTE AVERAGE TEST PREDS\n",
    "pred_lgb /= FOLDS"
   ]
  },
  {
   "cell_type": "code",
   "execution_count": 10,
   "id": "b88c6f47-6e46-47a4-b295-fe5c9d0886c1",
   "metadata": {},
   "outputs": [
    {
     "name": "stderr",
     "output_type": "stream",
     "text": [
      "C:\\Users\\tkvkh\\MyFolder\\projects\\kaggle\\cibmtr\\metric.py:36: FutureWarning: The default of observed=False is deprecated and will be changed to True in a future version of pandas. Pass observed=False to retain current behavior or observed=True to adopt the future default and silence this warning.\n",
      "  merged_df_race_dict = dict(merged_df.groupby(['race_group']).groups)\n"
     ]
    },
    {
     "name": "stdout",
     "output_type": "stream",
     "text": [
      "\n",
      "Overall CV for LightGBM KaplanMeier = 0.671764155740704\n"
     ]
    }
   ],
   "source": [
    "y_true = train[[\"ID\",\"efs\",\"efs_time\",\"race_group\"]].copy()\n",
    "y_pred = train[[\"ID\"]].copy()\n",
    "y_pred[\"prediction\"] = oof_lgb\n",
    "m = score(y_true.copy(), y_pred.copy(), \"ID\")\n",
    "print(f\"\\nOverall CV for LightGBM KaplanMeier =\", m)"
   ]
  },
  {
   "cell_type": "code",
   "execution_count": null,
   "id": "802d3f9c-3da1-4058-9f1d-88fd0606aec9",
   "metadata": {},
   "outputs": [],
   "source": []
  }
 ],
 "metadata": {
  "kernelspec": {
   "display_name": "Python 3 (ipykernel)",
   "language": "python",
   "name": "python3"
  },
  "language_info": {
   "codemirror_mode": {
    "name": "ipython",
    "version": 3
   },
   "file_extension": ".py",
   "mimetype": "text/x-python",
   "name": "python",
   "nbconvert_exporter": "python",
   "pygments_lexer": "ipython3",
   "version": "3.11.7"
  }
 },
 "nbformat": 4,
 "nbformat_minor": 5
}
